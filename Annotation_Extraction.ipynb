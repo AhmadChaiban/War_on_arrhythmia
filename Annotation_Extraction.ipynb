{
 "cells": [
  {
   "cell_type": "markdown",
   "metadata": {},
   "source": [
    "## Annotation Extraction "
   ]
  },
  {
   "cell_type": "code",
   "execution_count": 13,
   "metadata": {},
   "outputs": [],
   "source": [
    "from jupyterthemes import jtplot\n",
    "import pandas as pd\n",
    "import numpy as np\n",
    "import wfdb\n",
    "from wfdb import processing\n",
    "from scipy.signal import butter, filtfilt\n",
    "import matplotlib.pyplot as plt"
   ]
  },
  {
   "cell_type": "code",
   "execution_count": 14,
   "metadata": {},
   "outputs": [],
   "source": [
    "def annotation_symbols(str1,str2):\n",
    "    ann = wfdb.rdann(str1+str2, 'atr')\n",
    "    ann_list = np.array(ann.aux_note)\n",
    "    return np.array(ann_list)\n",
    "\n",
    "def annotation_labels(str1,str2):\n",
    "    ann = wfdb.rdann(str1+str2, 'atr')\n",
    "    ann_list = np.array(ann.symbol)\n",
    "    return np.array(ann_list)\n",
    "\n",
    "def annotation_locations(str1,str2):\n",
    "    ann = wfdb.rdann(str1+str2, 'atr')\n",
    "    ann_list = np.array(ann.sample)\n",
    "    return np.array(ann_list)"
   ]
  },
  {
   "cell_type": "code",
   "execution_count": 24,
   "metadata": {},
   "outputs": [],
   "source": [
    "ss = pd.read_csv(\"./Signal_Data/signals_anns.csv\",sep=\",\")\n",
    "ss = np.array(ss)"
   ]
  },
  {
   "cell_type": "code",
   "execution_count": 25,
   "metadata": {},
   "outputs": [],
   "source": [
    "ann_list =[]\n",
    "ann_locations = []\n",
    "ann_labels = []\n",
    "\n",
    "str1 = \"./Data_thesis/MIT/\"\n",
    "MIT_str = [\"100\",\"101\",\"102\",\"103\",\"104\",\"105\",\"106\",\"107\",\"108\",\"109\",\"111\",\"112\",\"113\",\"114\",\"115\",\"116\",\"117\",\"118\",\"119\",\n",
    "           \"121\",\"122\",\"123\",\"124\",\"200\",\"201\",\"202\",\"203\",\"205\",\"207\",\"208\",\"209\",\"210\",\"212\",\"213\",\"214\",\"215\",\"217\",\n",
    "           \"219\",\"220\",\"221\",\"222\",\"223\",\"228\",\"230\",\"231\",\"232\",\"233\",\"234\"]\n",
    "\n",
    "for i in MIT_str:\n",
    "    ann_list.append(annotation_symbols(str1,i))\n",
    "    ann_locations.append(annotation_locations(str1,i))\n",
    "    ann_labels.append(annotation_labels(str1,i))\n",
    "    \n",
    "str2 = \"./Data_thesis/CUDB/\"\n",
    "cudb_str = [\"cu01\",\"cu02\",\"cu03\",\"cu04\",\"cu05\",\"cu06\",\"cu07\",\"cu08\",\"cu09\",\"cu10\",\"cu11\",\"cu12\",\"cu13\",\"cu14\",\"cu15\",\"cu16\",\n",
    "            \"cu17\",\"cu18\",\"cu19\",\"cu20\",\"cu21\",\"cu22\",\"cu23\",\"cu24\",\"cu25\",\"cu26\",\"cu27\",\"cu28\",\"cu29\",\"cu30\",\"cu31\",\"cu32\",\n",
    "            \"cu33\",\"cu34\",\"cu35\"]\n",
    "\n",
    "for i in cudb_str:\n",
    "    ann_list.append(annotation_symbols(str2,i))\n",
    "    ann_locations.append(annotation_locations(str2,i))\n",
    "    ann_labels.append(annotation_labels(str2,i))\n",
    "   \n",
    "str3 = \"./Data_thesis/VFDB/\"\n",
    "vfdb_str = [\"418\",\"419\",\"420\",\"421\",\"422\",\"423\",\"424\",\"425\",\"426\",\"427\",\"428\",\"429\",\"430\",\"602\",\"605\",\"607\",\n",
    "            \"609\",\"610\",\"611\",\"612\",\"614\",\"615\"]\n",
    "\n",
    "for i in vfdb_str:\n",
    "    ann_list.append(annotation_symbols(str3,i))\n",
    "    ann_locations.append(annotation_locations(str3,i))\n",
    "    ann_labels.append(annotation_labels(str3,i))"
   ]
  },
  {
   "cell_type": "code",
   "execution_count": 26,
   "metadata": {},
   "outputs": [],
   "source": [
    "ann_list=np.array(ann_list)\n",
    "ann_locations = np.array(ann_locations)\n",
    "ann_labels = np.array(ann_labels)"
   ]
  },
  {
   "cell_type": "code",
   "execution_count": 27,
   "metadata": {
    "scrolled": true
   },
   "outputs": [
    {
     "name": "stdout",
     "output_type": "stream",
     "text": [
      "    label_store symbol                                    description\n",
      "0             0                              Not an actual annotation\n",
      "1             1      N                                    Normal beat\n",
      "2             2      L                  Left bundle branch block beat\n",
      "3             3      R                 Right bundle branch block beat\n",
      "4             4      a                Aberrated atrial premature beat\n",
      "5             5      V              Premature ventricular contraction\n",
      "6             6      F          Fusion of ventricular and normal beat\n",
      "7             7      J              Nodal (junctional) premature beat\n",
      "8             8      A                   Atrial premature contraction\n",
      "9             9      S     Premature or ectopic supraventricular beat\n",
      "10           10      E                        Ventricular escape beat\n",
      "11           11      j                 Nodal (junctional) escape beat\n",
      "12           12      /                                     Paced beat\n",
      "13           13      Q                            Unclassifiable beat\n",
      "14           14      ~                          Signal quality change\n",
      "16           16      |                     Isolated QRS-like artifact\n",
      "18           18      s                                      ST change\n",
      "19           19      T                                  T-wave change\n",
      "20           20      *                                        Systole\n",
      "21           21      D                                       Diastole\n",
      "22           22      \"                             Comment annotation\n",
      "23           23      =                         Measurement annotation\n",
      "24           24      p                                    P-wave peak\n",
      "25           25      B              Left or right bundle branch block\n",
      "26           26      ^                      Non-conducted pacer spike\n",
      "27           27      t                                    T-wave peak\n",
      "28           28      +                                  Rhythm change\n",
      "29           29      u                                    U-wave peak\n",
      "30           30      ?                                       Learning\n",
      "31           31      !                       Ventricular flutter wave\n",
      "32           32      [      Start of ventricular flutter/fibrillation\n",
      "33           33      ]        End of ventricular flutter/fibrillation\n",
      "34           34      e                             Atrial escape beat\n",
      "35           35      n                   Supraventricular escape beat\n",
      "36           36      @  Link to external data (aux_note contains URL)\n",
      "37           37      x             Non-conducted P-wave (blocked APB)\n",
      "38           38      f                Fusion of paced and normal beat\n",
      "39           39      (                                 Waveform onset\n",
      "40           40      )                                   Waveform end\n",
      "41           41      r       R-on-T premature ventricular contraction\n"
     ]
    }
   ],
   "source": [
    "wfdb.io.show_ann_labels()"
   ]
  },
  {
   "cell_type": "code",
   "execution_count": 28,
   "metadata": {},
   "outputs": [
    {
     "name": "stdout",
     "output_type": "stream",
     "text": [
      "     extension                        description  human_reviewed\n",
      "atr        atr          Reference ECG annotations            True\n",
      "blh        blh         Human reviewed beat labels            True\n",
      "blm        blm                Machine beat labels           False\n",
      "alh        alh              Human reviewed alarms            True\n",
      "alm        alm                     Machine alarms           False\n",
      "qrsc      qrsc      Human reviewed qrs detections            True\n",
      "qrs        qrs             Machine QRS detections           False\n",
      "bph        bph  Human reviewed BP beat detections            True\n",
      "bpm        bpm         Machine BP beat detections           False\n"
     ]
    }
   ],
   "source": [
    "wfdb.io.show_ann_classes()"
   ]
  },
  {
   "cell_type": "code",
   "execution_count": 29,
   "metadata": {},
   "outputs": [],
   "source": [
    "def fib_location_VF(lis,loc,lis2):\n",
    "    listlist = []\n",
    "    listmist = []\n",
    "    for i in range(len(lis)):\n",
    "        for j in range(len(lis[i])):\n",
    "            if lis[i][j] == '(VF' or lis[i][j]=='(VFL' or lis[i][j] == '(VFIB':\n",
    "                for k in range(len(lis[i][j+1:-1])):\n",
    "                    if lis[i][j+k+1] != '':\n",
    "                        lastone = loc[i][j+k]\n",
    "                        duration = lastone - loc[i][j-1]\n",
    "                        break\n",
    "                if i <=47:\n",
    "                    listlist.append(((i)*len(ss[i]))+int(loc[i][j]/len(ss[i][0])))\n",
    "                    listmist.append(((i)*len(ss[i]))+int(loc[i][j+k]/len(ss[i][0])))\n",
    "                elif 47 < i < 83:\n",
    "                    listlist.append((((i-47)*len(ss[i]))+(196*47))+int(loc[i][j]/len(ss[i][0])))\n",
    "                    listmist.append((((i-47)*len(ss[i]))+(196*47))+int(loc[i][j+k]/len(ss[i][0])))\n",
    "                elif i >= 83:\n",
    "                    listlist.append((((i-82)*len(ss[i]))+(196*47)+(38*34))+int(loc[i][j]/len(ss[i][0])))\n",
    "                    listmist.append((((i-82)*len(ss[i]))+(196*47)+(38*34))+int(loc[i][j+k]/len(ss[i][0])))\n",
    "                    \n",
    "    for u in range(len(lis2)):\n",
    "        for v in range(len(lis2[u])):\n",
    "            if lis2[u][v] == '[':\n",
    "                for qq in range(len(lis2[u][v+1:-1])):\n",
    "                    if lis2[u][v+qq] == ']':\n",
    "                        lastone = loc[u][v+qq]\n",
    "                        duration = lastone - loc[u][v-1]\n",
    "                        break\n",
    "                    else:\n",
    "                        break\n",
    "                if u <=47:\n",
    "                    listlist.append(((u)*len(ss[u]))+int(loc[u][v]/len(ss[u][0])))\n",
    "                    listmist.append(((u)*len(ss[u]))+int(loc[u][v+qq]/len(ss[u][0])))\n",
    "                elif 47 < u < 83:\n",
    "                    listlist.append((((u-47)*len(ss[u]))+(196*47))+int(loc[u][v]/len(ss[u][0])))\n",
    "                    listmist.append((((u-47)*len(ss[u]))+(196*47))+int(loc[u][v+qq]/len(ss[u][0])))\n",
    "                elif u >= 83:\n",
    "                    listlist.append((((u-82)*len(ss[u]))+(196*47)+(38*34))+int(loc[u][v]/len(ss[u][0])))\n",
    "                    listmist.append((((u-82)*len(ss[u]))+(196*47)+(38*34))+int(loc[u][v+qq]/len(ss[u][0])))\n",
    "            elif lis2[u][v] == '!':\n",
    "                for nn in range(len(lis2[u][v+1:-1])):\n",
    "                    if lis2[u][v+nn+1] != '!' and lis2[u][v+nn+1] != ['\"', '+', '/', 'A', 'E', 'F', 'J', 'L', 'N', 'Q', 'R', 'S','V', '[', \n",
    "                                                                      ']', 'a', 'e', 'f', 'j', 'x', '|', '~']:\n",
    "                        lastone = loc[u][v+nn]\n",
    "                        duration = lastone - loc[u][v-1]\n",
    "                        break\n",
    "                if u <=47:\n",
    "                    listlist.append(((u)*len(ss[u]))+int(loc[u][v]/len(ss[u][0])))\n",
    "                    listmist.append(((u)*len(ss[u]))+int(loc[u][v+nn]/len(ss[u][0])))\n",
    "                elif 47 < u < 83:\n",
    "                    listlist.append((((u-47)*len(ss[u]))+(196*47))+int(loc[u][v]/len(ss[u][0])))\n",
    "                    listmist.append((((u-47)*len(ss[u]))+(196*47))+int(loc[u][v+nn]/len(ss[u][0])))\n",
    "                elif u >= 83:\n",
    "                    listlist.append((((u-82)*len(ss[u]))+(196*47)+(38*34))+int(loc[u][v]/len(ss[u][0])))\n",
    "                    listmist.append((((u-82)*len(ss[u]))+(196*47)+(38*34))+int(loc[u][v+nn]/len(ss[u][0])))\n",
    "    return np.array(listlist),np.array(listmist)"
   ]
  },
  {
   "cell_type": "code",
   "execution_count": 63,
   "metadata": {},
   "outputs": [],
   "source": [
    "sm = pd.read_csv(\"./Signal_Data/signals.csv\",sep = \",\")"
   ]
  },
  {
   "cell_type": "code",
   "execution_count": 66,
   "metadata": {},
   "outputs": [],
   "source": [
    "del sm['Unnamed: 0']"
   ]
  },
  {
   "cell_type": "code",
   "execution_count": 75,
   "metadata": {},
   "outputs": [
    {
     "data": {
      "text/plain": [
       "'['"
      ]
     },
     "execution_count": 75,
     "metadata": {},
     "output_type": "execute_result"
    }
   ],
   "source": [
    "np.array(sm)[0"
   ]
  },
  {
   "cell_type": "code",
   "execution_count": 30,
   "metadata": {},
   "outputs": [
    {
     "ename": "TypeError",
     "evalue": "object of type 'int' has no len()",
     "output_type": "error",
     "traceback": [
      "\u001b[1;31m---------------------------------------------------------------------------\u001b[0m",
      "\u001b[1;31mTypeError\u001b[0m                                 Traceback (most recent call last)",
      "\u001b[1;32m<ipython-input-30-49f0bb6735cc>\u001b[0m in \u001b[0;36m<module>\u001b[1;34m\u001b[0m\n\u001b[1;32m----> 1\u001b[1;33m \u001b[0mVF_anns\u001b[0m \u001b[1;33m=\u001b[0m \u001b[0mfib_location_VF\u001b[0m\u001b[1;33m(\u001b[0m\u001b[0mann_list\u001b[0m\u001b[1;33m,\u001b[0m\u001b[0mann_locations\u001b[0m\u001b[1;33m,\u001b[0m\u001b[0mann_labels\u001b[0m\u001b[1;33m)\u001b[0m\u001b[1;33m\u001b[0m\u001b[1;33m\u001b[0m\u001b[0m\n\u001b[0m",
      "\u001b[1;32m<ipython-input-29-9aeba5164d2a>\u001b[0m in \u001b[0;36mfib_location_VF\u001b[1;34m(lis, loc, lis2)\u001b[0m\n\u001b[0;32m     11\u001b[0m                         \u001b[1;32mbreak\u001b[0m\u001b[1;33m\u001b[0m\u001b[1;33m\u001b[0m\u001b[0m\n\u001b[0;32m     12\u001b[0m                 \u001b[1;32mif\u001b[0m \u001b[0mi\u001b[0m \u001b[1;33m<=\u001b[0m\u001b[1;36m47\u001b[0m\u001b[1;33m:\u001b[0m\u001b[1;33m\u001b[0m\u001b[1;33m\u001b[0m\u001b[0m\n\u001b[1;32m---> 13\u001b[1;33m                     \u001b[0mlistlist\u001b[0m\u001b[1;33m.\u001b[0m\u001b[0mappend\u001b[0m\u001b[1;33m(\u001b[0m\u001b[1;33m(\u001b[0m\u001b[1;33m(\u001b[0m\u001b[0mi\u001b[0m\u001b[1;33m)\u001b[0m\u001b[1;33m*\u001b[0m\u001b[0mlen\u001b[0m\u001b[1;33m(\u001b[0m\u001b[0mss\u001b[0m\u001b[1;33m[\u001b[0m\u001b[0mi\u001b[0m\u001b[1;33m]\u001b[0m\u001b[1;33m)\u001b[0m\u001b[1;33m)\u001b[0m\u001b[1;33m+\u001b[0m\u001b[0mint\u001b[0m\u001b[1;33m(\u001b[0m\u001b[0mloc\u001b[0m\u001b[1;33m[\u001b[0m\u001b[0mi\u001b[0m\u001b[1;33m]\u001b[0m\u001b[1;33m[\u001b[0m\u001b[0mj\u001b[0m\u001b[1;33m]\u001b[0m\u001b[1;33m/\u001b[0m\u001b[0mlen\u001b[0m\u001b[1;33m(\u001b[0m\u001b[0mss\u001b[0m\u001b[1;33m[\u001b[0m\u001b[0mi\u001b[0m\u001b[1;33m]\u001b[0m\u001b[1;33m[\u001b[0m\u001b[1;36m0\u001b[0m\u001b[1;33m]\u001b[0m\u001b[1;33m)\u001b[0m\u001b[1;33m)\u001b[0m\u001b[1;33m)\u001b[0m\u001b[1;33m\u001b[0m\u001b[1;33m\u001b[0m\u001b[0m\n\u001b[0m\u001b[0;32m     14\u001b[0m                     \u001b[0mlistmist\u001b[0m\u001b[1;33m.\u001b[0m\u001b[0mappend\u001b[0m\u001b[1;33m(\u001b[0m\u001b[1;33m(\u001b[0m\u001b[1;33m(\u001b[0m\u001b[0mi\u001b[0m\u001b[1;33m)\u001b[0m\u001b[1;33m*\u001b[0m\u001b[0mlen\u001b[0m\u001b[1;33m(\u001b[0m\u001b[0mss\u001b[0m\u001b[1;33m[\u001b[0m\u001b[0mi\u001b[0m\u001b[1;33m]\u001b[0m\u001b[1;33m)\u001b[0m\u001b[1;33m)\u001b[0m\u001b[1;33m+\u001b[0m\u001b[0mint\u001b[0m\u001b[1;33m(\u001b[0m\u001b[0mloc\u001b[0m\u001b[1;33m[\u001b[0m\u001b[0mi\u001b[0m\u001b[1;33m]\u001b[0m\u001b[1;33m[\u001b[0m\u001b[0mj\u001b[0m\u001b[1;33m+\u001b[0m\u001b[0mk\u001b[0m\u001b[1;33m]\u001b[0m\u001b[1;33m/\u001b[0m\u001b[0mlen\u001b[0m\u001b[1;33m(\u001b[0m\u001b[0mss\u001b[0m\u001b[1;33m[\u001b[0m\u001b[0mi\u001b[0m\u001b[1;33m]\u001b[0m\u001b[1;33m[\u001b[0m\u001b[1;36m0\u001b[0m\u001b[1;33m]\u001b[0m\u001b[1;33m)\u001b[0m\u001b[1;33m)\u001b[0m\u001b[1;33m)\u001b[0m\u001b[1;33m\u001b[0m\u001b[1;33m\u001b[0m\u001b[0m\n\u001b[0;32m     15\u001b[0m                 \u001b[1;32melif\u001b[0m \u001b[1;36m47\u001b[0m \u001b[1;33m<\u001b[0m \u001b[0mi\u001b[0m \u001b[1;33m<\u001b[0m \u001b[1;36m83\u001b[0m\u001b[1;33m:\u001b[0m\u001b[1;33m\u001b[0m\u001b[1;33m\u001b[0m\u001b[0m\n",
      "\u001b[1;31mTypeError\u001b[0m: object of type 'int' has no len()"
     ]
    }
   ],
   "source": [
    "VF_anns = fib_location_VF(ann_list,ann_locations,ann_labels)"
   ]
  },
  {
   "cell_type": "markdown",
   "metadata": {},
   "source": [
    "1. 3 Premature ventricular contractions = VT\n",
    "2. ! = VFL\n",
    "3. Square brackets (open and closed) = VF\n",
    "4. R on T premature contracitons = VT"
   ]
  },
  {
   "cell_type": "code",
   "execution_count": null,
   "metadata": {},
   "outputs": [],
   "source": [
    "def fib_location_VT(lis,loc,lis2):\n",
    "    listlist = []\n",
    "    listmist = []\n",
    "    for i in range(len(lis)):\n",
    "        for j in range(len(lis[i])):\n",
    "            if lis[i][j] == '(SVTA' or lis[i][j]=='(VT':\n",
    "                for k in range(len(ann_list[i][j+1:-1])):\n",
    "                    if ann_list[i][j+k+1] != '':\n",
    "                        lastone = loc[i][j+k]\n",
    "                        duration = lastone - loc[i][j-1]\n",
    "                        break\n",
    "                if i <=47:\n",
    "                    listlist.append(((i)*len(ss[i]))+int(loc[i][j]/len(ss[i][0])))\n",
    "                    listmist.append(((i)*len(ss[i]))+int(loc[i][j+k]/len(ss[i][0])))\n",
    "                elif 47 < i < 83:\n",
    "                    listlist.append((((i-47)*len(ss[i]))+(196*47))+int(loc[i][j]/len(ss[i][0])))\n",
    "                    listmist.append((((i-47)*len(ss[i]))+(196*47))+int(loc[i][j+k]/len(ss[i][0])))\n",
    "                elif i >= 83:\n",
    "                    listlist.append((((i-82)*len(ss[i]))+(196*47)+(38*34))+int(loc[i][j]/len(ss[i][0])))\n",
    "                    listmist.append((((i-82)*len(ss[i]))+(196*47)+(38*34))+int(loc[i][j+k]/len(ss[i][0])))\n",
    "                \n",
    "    for u in range(len(lis2)):\n",
    "        cc = 0\n",
    "        for v in range(len(lis2[u])):\n",
    "            if lis2[u][v] == 'V':\n",
    "                cc +=1\n",
    "            else:\n",
    "                if v == len(lis2[u])-1:\n",
    "                    cc = 0\n",
    "                elif lis2[u][v+1] ==  ['!', '\"', '+', '/', 'A', 'E', 'F', 'J', 'L', 'N', 'Q', 'R', 'S','V', '[', ']', 'a', 'e', 'f', 'j', 'x', '|', '~']:#and lis2[u][v+2]=='+':\n",
    "                    cc +=1\n",
    "            if cc ==4:\n",
    "                for qq in range(len(lis2[u][v-4:-1])):\n",
    "                    if lis2[u][v+qq] != 'V':\n",
    "                        lastone = loc[u][v+qq]\n",
    "                        duration = lastone - loc[u][v-1]\n",
    "                        break\n",
    "                    else:\n",
    "                        break\n",
    "                if u <=47:\n",
    "                    listlist.append(((u)*len(ss[u]))+int(loc[u][v-3]/len(ss[u][0])))\n",
    "                    listmist.append(((u)*len(ss[u]))+int(loc[u][v+qq-1]/len(ss[u][0])))\n",
    "                elif 47 < u < 83:\n",
    "                    listlist.append((((u-47)*len(ss[u]))+(196*47))+int(loc[u][v-3]/len(ss[u][0])))\n",
    "                    listmist.append((((u-47)*len(ss[u]))+(196*47))+int(loc[u][v+qq-1]/len(ss[u][0])))\n",
    "                elif u >= 83:\n",
    "                    listlist.append((((u-82)*len(ss[u]))+(196*47)+(38*34))+int(loc[u][v-3]/len(ss[u][0])))\n",
    "                    listmist.append((((u-82)*len(ss[u]))+(196*47)+(38*34))+int(loc[u][v+qq-1]/len(ss[u][0])))\n",
    "                    \n",
    "    return np.array(listlist),np.array(listmist)"
   ]
  },
  {
   "cell_type": "code",
   "execution_count": null,
   "metadata": {},
   "outputs": [],
   "source": [
    "VT_anns = fib_location_VT(ann_list,ann_locations,ann_labels)"
   ]
  },
  {
   "cell_type": "code",
   "execution_count": null,
   "metadata": {},
   "outputs": [],
   "source": [
    "def label_creator(anns): \n",
    "    labels = np.zeros(14236)\n",
    "    labels = np.array(labels)\n",
    "    i = 0\n",
    "    counter = 0\n",
    "    while 3 > 2:\n",
    "        for l in range(anns[0][i],anns[1][i]+1):\n",
    "            labels[l] = 1\n",
    "            counter+=1\n",
    "        i+=1\n",
    "        if i == len(anns[0]):\n",
    "            break\n",
    "    return pd.DataFrame(labels)"
   ]
  },
  {
   "cell_type": "code",
   "execution_count": null,
   "metadata": {},
   "outputs": [],
   "source": [
    "VF_labels = label_creator(VF_anns)"
   ]
  },
  {
   "cell_type": "code",
   "execution_count": null,
   "metadata": {},
   "outputs": [],
   "source": [
    "counter1 = 0\n",
    "for i in np.array(VF_labels):\n",
    "    if i ==1:\n",
    "        counter1+=1\n",
    "counter1"
   ]
  },
  {
   "cell_type": "code",
   "execution_count": null,
   "metadata": {},
   "outputs": [],
   "source": [
    "VT_labels = label_creator(VT_anns)"
   ]
  },
  {
   "cell_type": "code",
   "execution_count": null,
   "metadata": {},
   "outputs": [],
   "source": [
    "counter2 = 0\n",
    "for i in np.array(VT_labels):\n",
    "    if i == 1:\n",
    "        counter2 +=1\n",
    "counter2"
   ]
  },
  {
   "cell_type": "code",
   "execution_count": null,
   "metadata": {},
   "outputs": [],
   "source": [
    "counter1+counter2"
   ]
  },
  {
   "cell_type": "code",
   "execution_count": null,
   "metadata": {},
   "outputs": [],
   "source": [
    "v = []\n",
    "for i in range(len(ann_list)):\n",
    "    for j in range(len(ann_list[i])):\n",
    "        v.append(ann_list[i][j])\n",
    "np.unique(np.array(v))"
   ]
  },
  {
   "cell_type": "code",
   "execution_count": null,
   "metadata": {},
   "outputs": [],
   "source": [
    "v = []\n",
    "for i in range(len(ann_labels)):\n",
    "    for j in range(len(ann_labels[i])):\n",
    "        v.append(ann_labels[i][j])\n",
    "np.unique(np.array(v))"
   ]
  },
  {
   "cell_type": "code",
   "execution_count": null,
   "metadata": {},
   "outputs": [],
   "source": [
    "VT = pd.DataFrame(VT_labels)\n",
    "VT.columns = [\"VT\"]\n",
    "VF = pd.DataFrame(VF_labels)\n",
    "VF.columns = [\"VF\"]"
   ]
  },
  {
   "cell_type": "code",
   "execution_count": null,
   "metadata": {},
   "outputs": [],
   "source": [
    "VF.to_csv(\"./Parameter_Data/VF_final.csv\",sep=',')\n",
    "VT.to_csv(\"./Parameter_Data/VT_final.csv\",sep=',')"
   ]
  }
 ],
 "metadata": {
  "kernelspec": {
   "display_name": "Python 3",
   "language": "python",
   "name": "python3"
  },
  "language_info": {
   "codemirror_mode": {
    "name": "ipython",
    "version": 3
   },
   "file_extension": ".py",
   "mimetype": "text/x-python",
   "name": "python",
   "nbconvert_exporter": "python",
   "pygments_lexer": "ipython3",
   "version": "3.6.7"
  }
 },
 "nbformat": 4,
 "nbformat_minor": 2
}
