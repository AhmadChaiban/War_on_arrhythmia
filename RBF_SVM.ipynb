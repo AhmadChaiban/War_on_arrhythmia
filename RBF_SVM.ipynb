{
 "cells": [
  {
   "cell_type": "code",
   "execution_count": 4,
   "metadata": {},
   "outputs": [],
   "source": [
    "import numpy as np\n",
    "import pandas as pd\n",
    "import matplotlib.pyplot as plt\n",
    "from jupyterthemes import jtplot"
   ]
  },
  {
   "cell_type": "code",
   "execution_count": 5,
   "metadata": {},
   "outputs": [],
   "source": [
    "# choose which theme to inherit plotting style from\n",
    "# onedork | grade3 | oceans16 | chesterish | monokai | solarizedl | solarizedd\n",
    "jtplot.style(theme='onedork')\n",
    "\n",
    "# set \"context\" (paper, notebook, talk, poster)\n",
    "# scale font-size of ticklabels, legend, etc.\n",
    "# remove spines from x and y axes and make grid dashed\n",
    "jtplot.style(context='poster', fscale=1.4, spines=False, gridlines='--')\n",
    "\n",
    "# turn on X- and Y-axis tick marks (default=False)\n",
    "# turn off the axis grid lines (default=True)\n",
    "# and set the default figure size\n",
    "jtplot.style(ticks=True, grid=True, figsize=(6, 4.5))"
   ]
  },
  {
   "cell_type": "code",
   "execution_count": 7,
   "metadata": {},
   "outputs": [],
   "source": [
    "TCI = pd.read_csv(\"./Parameter_Data/TCI.csv\",sep=\",\")\n",
    "ACF = pd.read_csv(\"./Parameter_Data/ACF.csv\",sep=\",\")\n",
    "VFF = pd.read_csv(\"./Parameter_Data/VFF.csv\",sep=\",\")\n",
    "SPEC = pd.read_csv(\"./Parameter_Data/SPEC.csv\",sep=\",\")\n",
    "COMP = pd.read_csv(\"./Parameter_Data/Complexity.csv\",sep=\",\")\n",
    "STD_EXP = pd.read_csv(\"./Parameter_Data/Standard_exp.csv\",sep=\",\")\n",
    "MEA = pd.read_csv(\"./Parameter_Data/MEA.csv\",sep=\",\")\n",
    "SCA = pd.read_csv(\"./Parameter_Data/SCA.csv\",sep=\",\")\n",
    "WAVE1 = pd.read_csv(\"./Parameter_Data/Wave1.csv\",sep=\",\")\n",
    "WAVE2 = pd.read_csv(\"./Parameter_Data/Wave2.csv\",sep=\",\")\n",
    "Li = pd.read_csv(\"./Parameter_Data/Li.csv\",sep=\",\")\n",
    "Tompkins = pd.read_csv(\"./Parameter_Data/Tompkins.csv\",sep=\",\")\n",
    "MAV = pd.read_csv(\"./Parameter_Data/MAV.csv\",sep=\",\")\n",
    "\n",
    "\n",
    "others = pd.read_csv(\"./Parameter_Data/others.csv\",sep=\",\")\n",
    "VF = pd.read_csv(\"./Parameter_Data/VF_fixed_977.csv\",sep=\",\")\n",
    "VT = pd.read_csv(\"./Parameter_Data/VT_fixed_977.csv\",sep=\",\")\n",
    "N = pd.read_csv(\"./Parameter_Data/N.csv\",sep=\",\")\n",
    "\n",
    "del TCI['Unnamed: 0']\n",
    "del ACF['Unnamed: 0']\n",
    "del VFF['Unnamed: 0']\n",
    "del SPEC['Unnamed: 0']\n",
    "del COMP['Unnamed: 0']\n",
    "del STD_EXP['Unnamed: 0']\n",
    "del MEA['Unnamed: 0']\n",
    "del SCA['Unnamed: 0']\n",
    "del WAVE1['Unnamed: 0']\n",
    "del WAVE2['Unnamed: 0']\n",
    "del Li['Unnamed: 0']\n",
    "del Tompkins['Unnamed: 0']\n",
    "del MAV['Unnamed: 0']\n",
    "\n",
    "\n",
    "del others['Unnamed: 0']\n",
    "del VF['Unnamed: 0']\n",
    "del VT['Unnamed: 0']\n",
    "del N['Unnamed: 0']\n",
    "\n",
    "Allofem = [TCI,ACF,VFF,SPEC,COMP,STD_EXP,MEA,SCA.mean(axis=1),WAVE2,Li.mean(axis=1),Tompkins,MAV]\n",
    "Labs = [others,VF,VT,N]\n",
    "Params = pd.concat(Allofem,axis=1)\n",
    "Labels = pd.concat(Labs,axis=1)"
   ]
  },
  {
   "cell_type": "code",
   "execution_count": 8,
   "metadata": {},
   "outputs": [],
   "source": [
    "params_np = np.array(Params)\n",
    "labels_np = np.array(Labels)"
   ]
  }
 ],
 "metadata": {
  "kernelspec": {
   "display_name": "Python 3",
   "language": "python",
   "name": "python3"
  },
  "language_info": {
   "codemirror_mode": {
    "name": "ipython",
    "version": 3
   },
   "file_extension": ".py",
   "mimetype": "text/x-python",
   "name": "python",
   "nbconvert_exporter": "python",
   "pygments_lexer": "ipython3",
   "version": "3.7.3"
  }
 },
 "nbformat": 4,
 "nbformat_minor": 2
}
