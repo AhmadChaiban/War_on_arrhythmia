{
 "cells": [
  {
   "cell_type": "markdown",
   "metadata": {},
   "source": [
    "# THE WAR AGAINST HEART ARRHYTHMIA"
   ]
  },
  {
   "cell_type": "code",
   "execution_count": 2,
   "metadata": {},
   "outputs": [],
   "source": [
    "import numpy as np\n",
    "from scipy.optimize import fsolve\n",
    "import math\n",
    "import pywt\n",
    "import cython\n",
    "import pandas as pd\n",
    "import scipy.signal\n",
    "import wfdb\n",
    "from wfdb import processing\n",
    "import matplotlib.pyplot as plt\n",
    "from matplotlib.pyplot import figure\n",
    "from scipy.fftpack import fft, ifft\n",
    "from sklearn import preprocessing\n",
    "from scipy import interpolate\n",
    "from scipy.signal import argrelextrema\n",
    "from scipy.signal import argrelmax\n",
    "from numpy import where\n",
    "from statsmodels.tsa.stattools import acf\n",
    "import random\n",
    "from collections import deque\n",
    "import statsmodels.graphics.tsaplots as st\n",
    "from scipy import special\n",
    "from scipy.signal import find_peaks\n",
    "import itertools as it\n",
    "from itertools import combinations\n",
    "from scipy.signal import butter, filtfilt\n",
    "from scipy import integrate\n",
    "import pyspeckit\n",
    "from pyspeckit import moments\n",
    "import arch\n",
    "from arch.unitroot import VarianceRatio"
   ]
  },
  {
   "cell_type": "markdown",
   "metadata": {},
   "source": [
    "## Preprocessing:\n",
    "\n",
    "1. Subtract the mean from the data\n",
    "2. Five order moving average filtering\n",
    "3. high pass filtering with fc = 1 Hz (driftsuppression)\n",
    "4. low-pass Butterworth filtering with fc = 30 Hz\n",
    "5. Noise, asystole and low-quality episode segments were removed according to the corresponding annotation labels. \n",
    "6. Only the first channels of the MITDB and the VFDB have been considered to avoid dependency of samples during the learning process."
   ]
  },
  {
   "cell_type": "markdown",
   "metadata": {},
   "source": [
    "# Loading and viewing the data"
   ]
  },
  {
   "cell_type": "code",
   "execution_count": 3,
   "metadata": {},
   "outputs": [
    {
     "data": {
      "text/plain": [
       "'C:\\\\Users\\\\ahmad\\\\Desktop\\\\UC3M\\\\Thesis\\\\Python_Workspace\\\\Code_thesis\\\\War_on_arrhythmia'"
      ]
     },
     "execution_count": 3,
     "metadata": {},
     "output_type": "execute_result"
    }
   ],
   "source": [
    "import os\n",
    "cwd = os.getcwd()\n",
    "cwd"
   ]
  },
  {
   "cell_type": "code",
   "execution_count": 4,
   "metadata": {},
   "outputs": [
    {
     "data": {
      "text/plain": [
       "'418'"
      ]
     },
     "execution_count": 4,
     "metadata": {},
     "output_type": "execute_result"
    }
   ],
   "source": [
    "MIT_signal_head = wfdb.io.rdrecord(\"C:/Users/ahmad/Desktop/UC3M/Thesis/Python_Workspace/Code_thesis/Data_thesis/vfdb/418\")\n",
    "MIT_signal_head.record_name"
   ]
  },
  {
   "cell_type": "code",
   "execution_count": 5,
   "metadata": {},
   "outputs": [
    {
     "data": {
      "text/plain": [
       "array([-0.035, -0.035, -0.035, ...,  0.155,  0.2  ,  0.   ])"
      ]
     },
     "execution_count": 5,
     "metadata": {},
     "output_type": "execute_result"
    }
   ],
   "source": [
    "MIT_signal_whole = wfdb.io.rdsamp(\"C:/Users/ahmad/Desktop/UC3M/Thesis/Python_Workspace/Code_thesis/Data_thesis/MIT/111\")\n",
    "\n",
    "def signal_creator(MIT_signal_whole):\n",
    "    MIT_data = []\n",
    "    for i in range(len(MIT_signal_whole[0])):\n",
    "        MIT_data.append(MIT_signal_whole[0][i][0])\n",
    "    MIT_data = np.array(MIT_data)\n",
    "    nulls = np.isnan(MIT_data)\n",
    "    l=[]\n",
    "    for i in range(len(nulls)):\n",
    "        if nulls[i] == True:\n",
    "            MIT_data[i] = 0\n",
    "            l.append(i) \n",
    "    MIT_data[l] = np.mean(MIT_data)\n",
    "    #plt.plot(MIT_data)\n",
    "    #plt.xlim(0,600)\n",
    "    return MIT_data\n",
    "\n",
    "MIT_data = signal_creator(MIT_signal_whole)\n",
    "MIT_data"
   ]
  },
  {
   "cell_type": "markdown",
   "metadata": {},
   "source": [
    "Annotation and signal type"
   ]
  },
  {
   "cell_type": "code",
   "execution_count": 6,
   "metadata": {},
   "outputs": [
    {
     "data": {
      "text/plain": [
       "['(N',\n",
       " '(NOISE',\n",
       " '(N',\n",
       " '(NOISE',\n",
       " '(N',\n",
       " '(NOISE',\n",
       " '(N',\n",
       " '(NOISE',\n",
       " '(N',\n",
       " '(NOISE',\n",
       " '(N',\n",
       " '(NOISE',\n",
       " '(N',\n",
       " '(NOISE',\n",
       " '(N',\n",
       " '(NOISE',\n",
       " '(N',\n",
       " '(NOISE',\n",
       " '(N',\n",
       " '(VT',\n",
       " '(N',\n",
       " '(VT',\n",
       " '(NOISE',\n",
       " '(VFIB',\n",
       " '(NOISE',\n",
       " '(VFIB',\n",
       " '(NOISE',\n",
       " '(VFIB',\n",
       " '(NOISE']"
      ]
     },
     "execution_count": 6,
     "metadata": {},
     "output_type": "execute_result"
    }
   ],
   "source": [
    "ann = wfdb.rdann('C:/Users/ahmad/Desktop/UC3M/Thesis/Python_Workspace/Code_thesis/Data_thesis/vfdb/422', 'atr')\n",
    "[ann.sample,ann.symbol]\n",
    "np.array(ann.aux_note).tolist()"
   ]
  },
  {
   "cell_type": "code",
   "execution_count": 7,
   "metadata": {
    "scrolled": true
   },
   "outputs": [
    {
     "data": {
      "text/plain": [
       "{'fs': 360,\n",
       " 'sig_len': 650000,\n",
       " 'n_sig': 2,\n",
       " 'base_date': None,\n",
       " 'base_time': None,\n",
       " 'units': ['mV', 'mV'],\n",
       " 'sig_name': ['MLII', 'V1'],\n",
       " 'comments': ['47 F 937 167 x1',\n",
       "  'Digoxin, Lasix',\n",
       "  'There is first degree AV block.  There are short bursts of both baseline',\n",
       "  'shifts and muscle noise, but in general, the quality is excellent.']}"
      ]
     },
     "execution_count": 7,
     "metadata": {},
     "output_type": "execute_result"
    }
   ],
   "source": [
    "MIT_signal_whole[1]"
   ]
  },
  {
   "cell_type": "code",
   "execution_count": 8,
   "metadata": {
    "scrolled": true
   },
   "outputs": [
    {
     "name": "stdout",
     "output_type": "stream",
     "text": [
      "    label_store symbol                                    description\n",
      "0             0                              Not an actual annotation\n",
      "1             1      N                                    Normal beat\n",
      "2             2      L                  Left bundle branch block beat\n",
      "3             3      R                 Right bundle branch block beat\n",
      "4             4      a                Aberrated atrial premature beat\n",
      "5             5      V              Premature ventricular contraction\n",
      "6             6      F          Fusion of ventricular and normal beat\n",
      "7             7      J              Nodal (junctional) premature beat\n",
      "8             8      A                   Atrial premature contraction\n",
      "9             9      S     Premature or ectopic supraventricular beat\n",
      "10           10      E                        Ventricular escape beat\n",
      "11           11      j                 Nodal (junctional) escape beat\n",
      "12           12      /                                     Paced beat\n",
      "13           13      Q                            Unclassifiable beat\n",
      "14           14      ~                          Signal quality change\n",
      "16           16      |                     Isolated QRS-like artifact\n",
      "18           18      s                                      ST change\n",
      "19           19      T                                  T-wave change\n",
      "20           20      *                                        Systole\n",
      "21           21      D                                       Diastole\n",
      "22           22      \"                             Comment annotation\n",
      "23           23      =                         Measurement annotation\n",
      "24           24      p                                    P-wave peak\n",
      "25           25      B              Left or right bundle branch block\n",
      "26           26      ^                      Non-conducted pacer spike\n",
      "27           27      t                                    T-wave peak\n",
      "28           28      +                                  Rhythm change\n",
      "29           29      u                                    U-wave peak\n",
      "30           30      ?                                       Learning\n",
      "31           31      !                       Ventricular flutter wave\n",
      "32           32      [      Start of ventricular flutter/fibrillation\n",
      "33           33      ]        End of ventricular flutter/fibrillation\n",
      "34           34      e                             Atrial escape beat\n",
      "35           35      n                   Supraventricular escape beat\n",
      "36           36      @  Link to external data (aux_note contains URL)\n",
      "37           37      x             Non-conducted P-wave (blocked APB)\n",
      "38           38      f                Fusion of paced and normal beat\n",
      "39           39      (                                 Waveform onset\n",
      "40           40      )                                   Waveform end\n",
      "41           41      r       R-on-T premature ventricular contraction\n"
     ]
    }
   ],
   "source": [
    "wfdb.io.show_ann_labels()"
   ]
  },
  {
   "cell_type": "code",
   "execution_count": 9,
   "metadata": {
    "scrolled": true
   },
   "outputs": [
    {
     "name": "stdout",
     "output_type": "stream",
     "text": [
      "     extension                        description  human_reviewed\n",
      "atr        atr          Reference ECG annotations            True\n",
      "blh        blh         Human reviewed beat labels            True\n",
      "blm        blm                Machine beat labels           False\n",
      "alh        alh              Human reviewed alarms            True\n",
      "alm        alm                     Machine alarms           False\n",
      "qrsc      qrsc      Human reviewed qrs detections            True\n",
      "qrs        qrs             Machine QRS detections           False\n",
      "bph        bph  Human reviewed BP beat detections            True\n",
      "bpm        bpm         Machine BP beat detections           False\n"
     ]
    }
   ],
   "source": [
    "wfdb.io.show_ann_classes()"
   ]
  },
  {
   "cell_type": "code",
   "execution_count": 10,
   "metadata": {
    "scrolled": true
   },
   "outputs": [
    {
     "data": {
      "text/plain": [
       "[<matplotlib.lines.Line2D at 0x1a825054438>]"
      ]
     },
     "execution_count": 10,
     "metadata": {},
     "output_type": "execute_result"
    },
    {
     "data": {
      "image/png": "[encoded data removed]",
      "text/plain": [
       "<Figure size 800x320 with 1 Axes>"
      ]
     },
     "metadata": {},
     "output_type": "display_data"
    }
   ],
   "source": [
    "fs = 360\n",
    "time = np.arange(MIT_data.size)/fs\n",
    "figure(num=None, figsize=(10, 4), dpi=80, facecolor='w', edgecolor='k')\n",
    "plt.xlim((0, 10))\n",
    "#plt.ylim((930,1050))\n",
    "plt.plot(time,MIT_data)"
   ]
  },
  {
   "cell_type": "markdown",
   "metadata": {},
   "source": [
    "# Signal preprocessing:\n",
    "\n",
    "1. Subtract the mean\n",
    "2. Five order moving average filtering\n",
    "3. High Pass Filtering with f = 1 Hz (Drift Suppression)\n",
    "4. low-pass Butterworth filtering with fc = 30 Hz"
   ]
  },
  {
   "cell_type": "code",
   "execution_count": 11,
   "metadata": {},
   "outputs": [],
   "source": [
    "def moving_average(l, N):\n",
    "    sum = 0\n",
    "    result = list( 0 for x in l) \n",
    "    for i in range( 0, N ):\n",
    "        sum = sum + l[i]\n",
    "        result[i] = sum / (i+1)\n",
    "    for i in range( N, len(l) ):\n",
    "        sum = sum - l[i-N] + l[i]\n",
    "        result[i] = sum / N\n",
    "    return result\n",
    "\n",
    "def butter_highpass(cutoff, fs, order=5):\n",
    "    nyq = 0.5 * fs\n",
    "    normal_cutoff = cutoff / nyq\n",
    "    b, a = butter(order, normal_cutoff, btype='high', analog=False)\n",
    "    return b, a\n",
    "\n",
    "def butter_highpass_filter(data, cutoff, fs, order=5):\n",
    "    b, a = butter_highpass(cutoff, fs, order=order)\n",
    "    y = filtfilt(b, a, data)\n",
    "    return y\n",
    "\n",
    "def butter_lowpass(cutoff, fs, order=5):\n",
    "    nyq = 0.5 * fs\n",
    "    normal_cutoff = cutoff / nyq\n",
    "    b, a = butter(order, normal_cutoff, btype='low', analog=False)\n",
    "    return b, a\n",
    "\n",
    "def butter_lowpass_filter(data, cutoff, fs, order=5):\n",
    "    b, a = butter_lowpass(cutoff, fs, order=order)\n",
    "    y = filtfilt(b, a, data)\n",
    "    return y\n",
    "\n",
    "def starting_point(signal,t,fs):\n",
    "    M = np.amax(signal[0:300])\n",
    "    index_M = np.where(signal==M)\n",
    "    signal_start = signal[index_M[0][0]:-1]\n",
    "    time_M = np.arange(signal_start.size)/fs\n",
    "    return signal_start,time_M\n",
    "\n",
    "def signal_preprocessor(data,time,uu,mm):\n",
    "    mean = np.mean(data)\n",
    "    data = data - mean\n",
    "    \n",
    "    data = moving_average(data,5)\n",
    "    #plt.plot(time,data)\n",
    "    #plt.xlim(0,10)\n",
    "    data = np.array(data)\n",
    "    \n",
    "    data = butter_highpass_filter(data, 1, uu, 5)\n",
    "    #figure(num=None, figsize=(10, 4), dpi=80, facecolor='w', edgecolor='k')\n",
    "    #plt.xlim((0, 10))\n",
    "    #plt.plot(time,data)\n",
    "    \n",
    "    MIT_signal = butter_lowpass_filter(data, 1, mm, 5)\n",
    "    fs=30\n",
    "    time = np.arange(MIT_signal.size)/fs\n",
    "    time = time/10\n",
    "    #figure(num=None, figsize=(10, 4), dpi=80, facecolor='w', edgecolor='k')\n",
    "    #plt.xlim((0, 10))\n",
    "    #plt.plot(time,MIT_signal)\n",
    "\n",
    "    return MIT_signal,time"
   ]
  },
  {
   "cell_type": "code",
   "execution_count": 12,
   "metadata": {},
   "outputs": [
    {
     "data": {
      "text/plain": [
       "[<matplotlib.lines.Line2D at 0x1a82512b748>]"
      ]
     },
     "execution_count": 12,
     "metadata": {},
     "output_type": "execute_result"
    },
    {
     "data": {
      "image/png": "[encoded data removed]",
      "text/plain": [
       "<Figure size 432x288 with 1 Axes>"
      ]
     },
     "metadata": {
      "needs_background": "light"
     },
     "output_type": "display_data"
    }
   ],
   "source": [
    "MIT_signal,time = signal_preprocessor(MIT_data,time,360,30) ##250 cudb vfdb and 360 MITDB\n",
    "MIT_signal,time = starting_point(MIT_signal,time,360)\n",
    "plt.xlim(0,8)\n",
    "plt.plot(time,MIT_signal)\n"
   ]
  },
  {
   "cell_type": "code",
   "execution_count": 13,
   "metadata": {},
   "outputs": [
    {
     "data": {
      "text/plain": [
       "(0, 10)"
      ]
     },
     "execution_count": 13,
     "metadata": {},
     "output_type": "execute_result"
    },
    {
     "data": {
      "image/png": "[encoded data removed]",
      "text/plain": [
       "<Figure size 432x288 with 1 Axes>"
      ]
     },
     "metadata": {
      "needs_background": "light"
     },
     "output_type": "display_data"
    }
   ],
   "source": [
    "MIT_signal,time = starting_point(MIT_signal,time,360)\n",
    "plt.plot(time,MIT_signal)\n",
    "plt.xlim(0,10)"
   ]
  },
  {
   "cell_type": "markdown",
   "metadata": {},
   "source": [
    "# Time parameter"
   ]
  },
  {
   "cell_type": "code",
   "execution_count": 14,
   "metadata": {},
   "outputs": [
    {
     "data": {
      "text/plain": [
       "360.00055401491534"
      ]
     },
     "execution_count": 14,
     "metadata": {},
     "output_type": "execute_result"
    }
   ],
   "source": [
    "t_cst = len(MIT_signal)/time[-1]\n",
    "t_cst  ##number of signal points in 1 second"
   ]
  },
  {
   "cell_type": "markdown",
   "metadata": {},
   "source": [
    "## Parameter 1: TCI"
   ]
  },
  {
   "cell_type": "code",
   "execution_count": 15,
   "metadata": {},
   "outputs": [
    {
     "data": {
      "text/plain": [
       "[<matplotlib.lines.Line2D at 0x1a829ce0128>]"
      ]
     },
     "execution_count": 15,
     "metadata": {},
     "output_type": "execute_result"
    },
    {
     "data": {
      "image/png": "[encoded data removed]",
      "text/plain": [
       "<Figure size 720x360 with 1 Axes>"
      ]
     },
     "metadata": {
      "needs_background": "light"
     },
     "output_type": "display_data"
    }
   ],
   "source": [
    "MIT_signal.size\n",
    "time.size\n",
    "time[300]\n",
    "time[600]\n",
    "plt.figure(figsize=(10,5))\n",
    "plt.plot(time[0:3000],MIT_signal[0:3000])"
   ]
  },
  {
   "cell_type": "code",
   "execution_count": 16,
   "metadata": {},
   "outputs": [],
   "source": [
    "def binary_td(signal,m,n):\n",
    "    threshold = np.arange(n-m).astype(\"float\")\n",
    "    k = m\n",
    "    s = m\n",
    "    z = 0\n",
    "    binary_list = []\n",
    "    i=0\n",
    "    while(i < threshold.size):\n",
    "        threshold[i]=0.2*np.amax(MIT_signal[int(np.ceil(m*300)):int(np.ceil((m+1)*300))])\n",
    "        i+=1\n",
    "        m+=1\n",
    "    for l in threshold:\n",
    "        p = 0\n",
    "        for j in signal[int(np.ceil(k*300)):int(np.ceil((k+1)*300))]:\n",
    "            if j < l :\n",
    "                binary_list.append(0)\n",
    "            else: \n",
    "                binary_list.append(1)\n",
    "        k+=1\n",
    "    return np.array(binary_list),threshold"
   ]
  },
  {
   "cell_type": "code",
   "execution_count": 17,
   "metadata": {},
   "outputs": [
    {
     "data": {
      "text/plain": [
       "array([1, 1, 1, ..., 0, 0, 0])"
      ]
     },
     "execution_count": 17,
     "metadata": {},
     "output_type": "execute_result"
    },
    {
     "data": {
      "image/png": "[encoded data removed]",
      "text/plain": [
       "<Figure size 720x360 with 1 Axes>"
      ]
     },
     "metadata": {
      "needs_background": "light"
     },
     "output_type": "display_data"
    }
   ],
   "source": [
    "binlist,thd = binary_td(MIT_signal,0,10)\n",
    "plt.figure(figsize=(10,5))\n",
    "plt.plot(time[0:10*300],binlist)\n",
    "binlist[300:2700]"
   ]
  },
  {
   "cell_type": "code",
   "execution_count": 18,
   "metadata": {},
   "outputs": [],
   "source": [
    "def TCI(binlist,thd,m,n):\n",
    "    pulses = [0]*(n-m+2)\n",
    "    q = 0\n",
    "    p = 300\n",
    "    ## pulse calculation:\n",
    "    k=0\n",
    "    for i in range(len(thd)):\n",
    "        bin2 = binlist[q:p]\n",
    "        for i in range(len(bin2)-1):\n",
    "            if bin2[i]!=bin2[i+1]:\n",
    "                pulses[k]+=1\n",
    "        pulses[k] = pulses[k]/2\n",
    "        k+=1\n",
    "        q+=300\n",
    "        p+=300\n",
    "    q = 0\n",
    "    p=900\n",
    "    k=0\n",
    "    t1_idx = 0\n",
    "    t2_idx = 0\n",
    "    t3_idx = 0\n",
    "    t4_idx = 0\n",
    "    TCI=[]\n",
    "    for l in range(len(thd)-2):\n",
    "        countidx1 = 0\n",
    "        countidx2 = 0\n",
    "        countidx3 = 0\n",
    "        countidx4 = 0\n",
    "        bin2 = binlist[q:p]\n",
    "        \n",
    "        for f in range(len(bin2)-1):\n",
    "            if bin2[f]!=bin2[f+1]:\n",
    "                countidx1+=1\n",
    "                if countidx1/2 == pulses[k]:\n",
    "                    t1_idx = f+q\n",
    "                    break\n",
    "        h1 = q+300\n",
    "        bin2=binlist[h1:p]\n",
    "        for f in range(len(bin2)-1):\n",
    "            if bin2[f]!=bin2[f+1]:\n",
    "                t2_idx = h1+f+1\n",
    "                break\n",
    "                    \n",
    "        for f in range(len(bin2)-1):\n",
    "            if bin2[f]!=bin2[f+1]:\n",
    "                countidx3 +=1\n",
    "                if countidx3/2 == pulses[k+1]:\n",
    "                    t3_idx = f+h1\n",
    "                    break\n",
    "        h2 = q+600            \n",
    "        bin2 =binlist[h2:p]             \n",
    "        for f in range(len(bin2)-1):\n",
    "            if bin2[f]!=bin2[f+1]:\n",
    "                t4_idx = f+1+h2\n",
    "                break\n",
    "        t1 = (h1-t1_idx)/300\n",
    "        t2 = (t2_idx-h1)/300\n",
    "        t3 = (h2 - t3_idx)/300\n",
    "        t4 = (t4_idx-h2)/300\n",
    "        \n",
    "        if t1+t2 == 0:\n",
    "            TCI.append(0)\n",
    "        elif t3+t4==0:\n",
    "            TCI.append(0)\n",
    "        else:\n",
    "            form1 = (pulses[k+1]-1)+(t2/(t1+t2))+(t3/(t3+t4))\n",
    "            if form1 == 0:\n",
    "                TCI.append(0)\n",
    "            else:\n",
    "                form2=1000/form1\n",
    "                TCI.append(form2)\n",
    "            q+=300\n",
    "            p+=300\n",
    "            k+=1\n",
    "    return np.array(TCI)"
   ]
  },
  {
   "cell_type": "code",
   "execution_count": 19,
   "metadata": {},
   "outputs": [
    {
     "data": {
      "text/plain": [
       "array([663.95864106, 482.26709656, 502.72802752, 514.73349244,\n",
       "       503.35001024, 503.37946572, 494.91313195, 526.4532985 ])"
      ]
     },
     "execution_count": 19,
     "metadata": {},
     "output_type": "execute_result"
    }
   ],
   "source": [
    "binlist,thd = binary_td(MIT_signal,0,10)\n",
    "TCI(binlist,thd,1,9)"
   ]
  },
  {
   "cell_type": "markdown",
   "metadata": {},
   "source": [
    "# Parameter 2: ACF Algorithm"
   ]
  },
  {
   "cell_type": "code",
   "execution_count": 20,
   "metadata": {},
   "outputs": [
    {
     "name": "stdout",
     "output_type": "stream",
     "text": [
      "Learning initial signal parameters...\n",
      "Found 8 beats during learning. Initializing using learned parameters\n",
      "Running QRS detection...\n",
      "QRS detection complete.\n"
     ]
    }
   ],
   "source": [
    "qrs_inds = processing.xqrs_detect(sig=MIT_signal[0:2400], fs=85)"
   ]
  },
  {
   "cell_type": "code",
   "execution_count": 21,
   "metadata": {},
   "outputs": [
    {
     "data": {
      "text/plain": [
       "15"
      ]
     },
     "execution_count": 21,
     "metadata": {},
     "output_type": "execute_result"
    },
    {
     "data": {
      "image/png": "[encoded data removed]",
      "text/plain": [
       "<Figure size 432x288 with 1 Axes>"
      ]
     },
     "metadata": {
      "needs_background": "light"
     },
     "output_type": "display_data"
    }
   ],
   "source": [
    "plt.plot(time[0:2400],MIT_signal[0:2400])\n",
    "plt.scatter(time[qrs_inds],MIT_signal[qrs_inds],color=\"red\")\n",
    "x = int(len(qrs_inds))\n",
    "x"
   ]
  },
  {
   "cell_type": "code",
   "execution_count": 22,
   "metadata": {},
   "outputs": [],
   "source": [
    "ser = acf(MIT_signal[0:2400],nlags=x*3,alpha=0.01)"
   ]
  },
  {
   "cell_type": "code",
   "execution_count": 23,
   "metadata": {},
   "outputs": [
    {
     "data": {
      "image/png": "[encoded data removed]",
      "text/plain": [
       "<Figure size 432x288 with 1 Axes>"
      ]
     },
     "execution_count": 23,
     "metadata": {},
     "output_type": "execute_result"
    },
    {
     "data": {
      "image/png": "[encoded data removed]",
      "text/plain": [
       "<Figure size 432x288 with 1 Axes>"
      ]
     },
     "metadata": {
      "needs_background": "light"
     },
     "output_type": "display_data"
    }
   ],
   "source": [
    "st.plot_acf(ser[0])"
   ]
  },
  {
   "cell_type": "code",
   "execution_count": 24,
   "metadata": {},
   "outputs": [
    {
     "name": "stderr",
     "output_type": "stream",
     "text": [
      "\n",
      "The length of y is not an exact multiple of 2, and so the final\n",
      "1 observations have been dropped.\n",
      "\n"
     ]
    },
    {
     "data": {
      "text/plain": [
       "4.633045293067376"
      ]
     },
     "execution_count": 24,
     "metadata": {},
     "output_type": "execute_result"
    }
   ],
   "source": [
    "vr = VarianceRatio(ser[0])\n",
    "vr.overlap=False\n",
    "vr.stat"
   ]
  },
  {
   "cell_type": "code",
   "execution_count": 25,
   "metadata": {},
   "outputs": [],
   "source": [
    "def ACF_test(signal):\n",
    "    qrs_inds = processing.xqrs_detect(sig=signal, fs=85)\n",
    "    x = int(len(qrs_inds))\n",
    "    ser = acf(signal,nlags=x*3,alpha=0.05)\n",
    "    vr = VarianceRatio(ser[0])\n",
    "    vr.overlap=False\n",
    "    return vr.stat"
   ]
  },
  {
   "cell_type": "code",
   "execution_count": 26,
   "metadata": {},
   "outputs": [
    {
     "name": "stdout",
     "output_type": "stream",
     "text": [
      "Learning initial signal parameters...\n",
      "Found 8 beats during learning. Initializing using learned parameters\n",
      "Running QRS detection...\n",
      "QRS detection complete.\n"
     ]
    },
    {
     "name": "stderr",
     "output_type": "stream",
     "text": [
      "\n",
      "The length of y is not an exact multiple of 2, and so the final\n",
      "1 observations have been dropped.\n",
      "\n"
     ]
    },
    {
     "data": {
      "text/plain": [
       "4.633045293067376"
      ]
     },
     "execution_count": 26,
     "metadata": {},
     "output_type": "execute_result"
    }
   ],
   "source": [
    "ACF_test(MIT_signal[0:2400])"
   ]
  },
  {
   "cell_type": "markdown",
   "metadata": {},
   "source": [
    "## Parameter 3: VF Filter"
   ]
  },
  {
   "cell_type": "code",
   "execution_count": 27,
   "metadata": {},
   "outputs": [],
   "source": [
    "def get_points(signal,m):\n",
    "    i=1\n",
    "    x=0\n",
    "    y=0\n",
    "    while i <= m:\n",
    "        x = x + np.absolute(signal[i])\n",
    "        y = y + np.absolute(signal[i]-signal[i-1])\n",
    "        i+=1\n",
    "    N = np.floor(np.pi*(x/y)+0.5)\n",
    "    return N\n",
    "\n",
    "def VF_Filter_leakage(signal,N,n,m):\n",
    "    i=n\n",
    "    x=0\n",
    "    y=0\n",
    "    while i <= m:\n",
    "        x = x + np.absolute(signal[i]+signal[i-N])\n",
    "        y = y + (np.absolute(signal[i])+np.absolute(signal[i-N]))\n",
    "        i+=1\n",
    "    l = x/y\n",
    "    return l\n",
    "    "
   ]
  },
  {
   "cell_type": "code",
   "execution_count": 28,
   "metadata": {},
   "outputs": [
    {
     "data": {
      "text/plain": [
       "0.583943430087362"
      ]
     },
     "execution_count": 28,
     "metadata": {},
     "output_type": "execute_result"
    }
   ],
   "source": [
    "VF_Filter_leakage(MIT_signal,int(get_points(MIT_signal,300)),200,500)"
   ]
  },
  {
   "cell_type": "markdown",
   "metadata": {},
   "source": [
    "## Parameter 4: Spectral Algorithm"
   ]
  },
  {
   "cell_type": "code",
   "execution_count": 29,
   "metadata": {},
   "outputs": [],
   "source": [
    "Ham = MIT_signal[0:2400]*np.hamming(2400)"
   ]
  },
  {
   "cell_type": "code",
   "execution_count": 30,
   "metadata": {},
   "outputs": [
    {
     "data": {
      "text/plain": [
       "(-120, 120)"
      ]
     },
     "execution_count": 30,
     "metadata": {},
     "output_type": "execute_result"
    },
    {
     "data": {
      "image/png": "[encoded data removed]",
      "text/plain": [
       "<Figure size 432x288 with 1 Axes>"
      ]
     },
     "metadata": {
      "needs_background": "light"
     },
     "output_type": "display_data"
    }
   ],
   "source": [
    "plt.plot(time[0:2400],Ham)\n",
    "plt.xlim(0,10)\n",
    "plt.ylim(-120,120)"
   ]
  },
  {
   "cell_type": "code",
   "execution_count": 31,
   "metadata": {},
   "outputs": [],
   "source": [
    "fourier = scipy.fft(Ham)"
   ]
  },
  {
   "cell_type": "code",
   "execution_count": 32,
   "metadata": {},
   "outputs": [
    {
     "data": {
      "text/plain": [
       "array([-0.22628347+0.j        , -0.22701253+0.02394437j,\n",
       "       -0.23126225+0.04699765j, ..., -0.22889275-0.10295006j,\n",
       "       -0.23126225-0.04699765j, -0.22701253-0.02394437j])"
      ]
     },
     "execution_count": 32,
     "metadata": {},
     "output_type": "execute_result"
    }
   ],
   "source": [
    "fourier"
   ]
  },
  {
   "cell_type": "code",
   "execution_count": 33,
   "metadata": {},
   "outputs": [
    {
     "name": "stderr",
     "output_type": "stream",
     "text": [
      "Casting complex values to real discards the imaginary part\n"
     ]
    },
    {
     "data": {
      "text/plain": [
       "[<matplotlib.lines.Line2D at 0x1a82a705b38>]"
      ]
     },
     "execution_count": 33,
     "metadata": {},
     "output_type": "execute_result"
    },
    {
     "data": {
      "image/png": "[encoded data removed]",
      "text/plain": [
       "<Figure size 432x288 with 1 Axes>"
      ]
     },
     "metadata": {
      "needs_background": "light"
     },
     "output_type": "display_data"
    }
   ],
   "source": [
    "plt.plot(fourier)"
   ]
  },
  {
   "cell_type": "code",
   "execution_count": 34,
   "metadata": {},
   "outputs": [],
   "source": [
    "def fourier_abs(fourier):\n",
    "    j=0\n",
    "    for i in fourier:\n",
    "        fourier[j] = np.absolute(i.real)+np.absolute(i.imag)\n",
    "        j+=1\n",
    "    return fourier"
   ]
  },
  {
   "cell_type": "code",
   "execution_count": 35,
   "metadata": {},
   "outputs": [],
   "source": [
    "fourier_2 = fourier_abs(fourier).real"
   ]
  },
  {
   "cell_type": "code",
   "execution_count": 36,
   "metadata": {},
   "outputs": [
    {
     "data": {
      "text/plain": [
       "array([0.22628347, 0.2509569 , 0.2782599 , ..., 0.33184282, 0.2782599 ,\n",
       "       0.2509569 ])"
      ]
     },
     "execution_count": 36,
     "metadata": {},
     "output_type": "execute_result"
    }
   ],
   "source": [
    "fourier_2"
   ]
  },
  {
   "cell_type": "code",
   "execution_count": 37,
   "metadata": {},
   "outputs": [
    {
     "data": {
      "text/plain": [
       "(0, 10)"
      ]
     },
     "execution_count": 37,
     "metadata": {},
     "output_type": "execute_result"
    },
    {
     "data": {
      "image/png": "[encoded data removed]",
      "text/plain": [
       "<Figure size 432x288 with 1 Axes>"
      ]
     },
     "metadata": {
      "needs_background": "light"
     },
     "output_type": "display_data"
    }
   ],
   "source": [
    "plt.plot(time[0:2400],fourier_2)\n",
    "plt.xlim(0,10)"
   ]
  },
  {
   "cell_type": "code",
   "execution_count": 38,
   "metadata": {},
   "outputs": [],
   "source": [
    "freq_1 = 0.5\n",
    "freq_2 = 9\n",
    "\n",
    "time_1 = 1/9\n",
    "time_2 = 1/0.5\n",
    "\n",
    "range1 = int(np.ceil(time_1*300))\n",
    "range2 = int(np.floor(time_2*300))\n",
    "\n",
    "fourier_3 = fourier_2[range1:range2]"
   ]
  },
  {
   "cell_type": "code",
   "execution_count": 39,
   "metadata": {},
   "outputs": [
    {
     "data": {
      "text/plain": [
       "2.0"
      ]
     },
     "execution_count": 39,
     "metadata": {},
     "output_type": "execute_result"
    }
   ],
   "source": [
    "time_2"
   ]
  },
  {
   "cell_type": "code",
   "execution_count": 40,
   "metadata": {},
   "outputs": [
    {
     "name": "stdout",
     "output_type": "stream",
     "text": [
      "13\n",
      "50.614812928583326\n"
     ]
    }
   ],
   "source": [
    "m = np.amax(fourier_3)\n",
    "f = fourier_3.tolist()\n",
    "print(f.index(m))\n",
    "print(m)"
   ]
  },
  {
   "cell_type": "code",
   "execution_count": 41,
   "metadata": {},
   "outputs": [
    {
     "data": {
      "text/plain": [
       "13"
      ]
     },
     "execution_count": 41,
     "metadata": {},
     "output_type": "execute_result"
    }
   ],
   "source": [
    "f.index(m)"
   ]
  },
  {
   "cell_type": "code",
   "execution_count": 42,
   "metadata": {},
   "outputs": [
    {
     "data": {
      "text/plain": [
       "25.378390237140998"
      ]
     },
     "execution_count": 42,
     "metadata": {},
     "output_type": "execute_result"
    }
   ],
   "source": [
    "f[6]"
   ]
  },
  {
   "cell_type": "code",
   "execution_count": 43,
   "metadata": {},
   "outputs": [
    {
     "data": {
      "text/plain": [
       "23.076923076923077"
      ]
     },
     "execution_count": 43,
     "metadata": {},
     "output_type": "execute_result"
    }
   ],
   "source": [
    "time_max_amp = f.index(m)/300 ## in seconds\n",
    "if time_max_amp != 0:\n",
    "    God_of_War = 1/time_max_amp\n",
    "else:\n",
    "    God_of_War = 0\n",
    "God_of_War"
   ]
  },
  {
   "cell_type": "code",
   "execution_count": 44,
   "metadata": {},
   "outputs": [],
   "source": [
    "def amp_maxsetter(fourier,m):\n",
    "    j = 0\n",
    "    for i in fourier:\n",
    "        if i < 0.05*m:\n",
    "            fourier[j]=0\n",
    "        j+=1\n",
    "    return fourier"
   ]
  },
  {
   "cell_type": "code",
   "execution_count": 45,
   "metadata": {},
   "outputs": [
    {
     "data": {
      "text/plain": [
       "array([0., 0., 0., ..., 0., 0., 0.])"
      ]
     },
     "execution_count": 45,
     "metadata": {},
     "output_type": "execute_result"
    }
   ],
   "source": [
    "fourier_final = amp_maxsetter(fourier_2,m)\n",
    "fourier_final"
   ]
  },
  {
   "cell_type": "code",
   "execution_count": 46,
   "metadata": {},
   "outputs": [
    {
     "data": {
      "text/plain": [
       "[<matplotlib.lines.Line2D at 0x1a82a7cfe10>]"
      ]
     },
     "execution_count": 46,
     "metadata": {},
     "output_type": "execute_result"
    },
    {
     "data": {
      "image/png": "[encoded data removed]",
      "text/plain": [
       "<Figure size 432x288 with 1 Axes>"
      ]
     },
     "metadata": {
      "needs_background": "light"
     },
     "output_type": "display_data"
    }
   ],
   "source": [
    "plt.plot(time[0:2400],fourier_final)"
   ]
  },
  {
   "cell_type": "code",
   "execution_count": 47,
   "metadata": {},
   "outputs": [],
   "source": [
    "def moment_calc(fourier,omega,jmax):\n",
    "    j=0\n",
    "    s=0\n",
    "    fft = fourier[0:int(np.amin([20*omega,100]))]\n",
    "    while j <= jmax:\n",
    "        freq = 300/j   ##fix time\n",
    "        m = 1/omega\n",
    "        s = s + (m*freq)\n",
    "        j+=1"
   ]
  },
  {
   "cell_type": "code",
   "execution_count": 48,
   "metadata": {},
   "outputs": [
    {
     "name": "stderr",
     "output_type": "stream",
     "text": [
      "WARNING: No header given.  Creating an empty one.\n",
      "Passing the drawstyle with the linestyle as a single string is deprecated since Matplotlib 3.1 and support will be removed in 3.3; please pass the drawstyle separately using the drawstyle keyword argument to Line2D or set_drawstyle() method (or ds/set_ds()).\n"
     ]
    },
    {
     "data": {
      "text/plain": [
       "<Spectrum object named  over spectral range      0 : 6.6639  and flux range = [0.0, 97.9] km / s at -0x7fffffe57d57ef1c>"
      ]
     },
     "execution_count": 48,
     "metadata": {},
     "output_type": "execute_result"
    },
    {
     "data": {
      "image/png": "[encoded data removed]",
      "text/plain": [
       "<Figure size 432x288 with 1 Axes>"
      ]
     },
     "metadata": {
      "needs_background": "light"
     },
     "output_type": "display_data"
    }
   ],
   "source": [
    "pyspeckit.spectrum.Spectrum(data = fourier_final,xarr = time[0:2400],doplot=\"True\",unit ='km / s' )"
   ]
  },
  {
   "cell_type": "code",
   "execution_count": 49,
   "metadata": {},
   "outputs": [
    {
     "name": "stderr",
     "output_type": "stream",
     "text": [
      "WARNING: No header given.  Creating an empty one.\n"
     ]
    },
    {
     "data": {
      "text/plain": [
       "<bound method BaseSpectrum.moments of <Spectrum object named  over spectral range      0 : 6.6639  and flux range = [0.0, 97.9] km / s at 0x1a82a82b86>>"
      ]
     },
     "execution_count": 49,
     "metadata": {},
     "output_type": "execute_result"
    }
   ],
   "source": [
    "Mk = pyspeckit.spectrum.Spectrum(data = fourier_final,xarr = time[0:2400],unit = 'km / s').moments\n",
    "Mk"
   ]
  },
  {
   "cell_type": "code",
   "execution_count": 50,
   "metadata": {},
   "outputs": [
    {
     "data": {
      "text/plain": [
       "1"
      ]
     },
     "execution_count": 50,
     "metadata": {},
     "output_type": "execute_result"
    }
   ],
   "source": [
    "np.minimum(1,2)"
   ]
  },
  {
   "cell_type": "code",
   "execution_count": 51,
   "metadata": {},
   "outputs": [
    {
     "data": {
      "text/plain": [
       "-2.938399091551117"
      ]
     },
     "execution_count": 51,
     "metadata": {},
     "output_type": "execute_result"
    }
   ],
   "source": [
    "sum(MIT_signal[0:2400])"
   ]
  },
  {
   "cell_type": "code",
   "execution_count": 52,
   "metadata": {},
   "outputs": [],
   "source": [
    "def A_calc(f1,f2,f3,f4,signal):\n",
    "    i1 = int((f1)*300)\n",
    "    i2 = int((f2)*300)\n",
    "    i3 = int((f3)*300)\n",
    "    i4 = int((f4)*300)\n",
    "    \n",
    "    if i1<i2:\n",
    "        A=0\n",
    "        for i in range(len(signal[i1:i2])):\n",
    "            A += signal[i]\n",
    "    else:\n",
    "        A=0\n",
    "        for i in range(len(signal[i2:i1])):\n",
    "            A += signal[i]\n",
    "    if i3<i4:\n",
    "        B = sum(signal[i3:i4])\n",
    "    else:\n",
    "        B = sum(signal[i4:i3])\n",
    "\n",
    "    return (A/B)"
   ]
  },
  {
   "cell_type": "code",
   "execution_count": 53,
   "metadata": {
    "scrolled": true
   },
   "outputs": [
    {
     "data": {
      "text/plain": [
       "1.0000000000000007"
      ]
     },
     "execution_count": 53,
     "metadata": {},
     "output_type": "execute_result"
    }
   ],
   "source": [
    "A1 = A_calc(0.5,God_of_War/2,0.5,np.minimum(20*God_of_War,100),fourier_final)\n",
    "A1"
   ]
  },
  {
   "cell_type": "code",
   "execution_count": 54,
   "metadata": {},
   "outputs": [
    {
     "data": {
      "text/plain": [
       "-0.0"
      ]
     },
     "execution_count": 54,
     "metadata": {},
     "output_type": "execute_result"
    }
   ],
   "source": [
    "A2 = A_calc(0.7*God_of_War,1.4*God_of_War,0.5,np.minimum(20*God_of_War,100),MIT_signal[0:2400])\n",
    "A2"
   ]
  },
  {
   "cell_type": "code",
   "execution_count": 55,
   "metadata": {},
   "outputs": [
    {
     "data": {
      "text/plain": [
       "array([1, 2, 3, 4, 5, 6, 7])"
      ]
     },
     "execution_count": 55,
     "metadata": {},
     "output_type": "execute_result"
    }
   ],
   "source": [
    "A = np.arange(2*God_of_War,8*God_of_War,0.6)\n",
    "A = ((1/A)*t_cst).astype(int)\n",
    "A = np.unique(A)\n",
    "A"
   ]
  },
  {
   "cell_type": "code",
   "execution_count": 56,
   "metadata": {},
   "outputs": [],
   "source": [
    "def A3_calc(signal,God_of_War):\n",
    "    A = np.arange(2*God_of_War,8*God_of_War,0.6)\n",
    "    A = ((1/A)*t_cst).astype(int)\n",
    "    A = np.unique(A)\n",
    "    A = sum(signal[A])\n",
    "    \n",
    "    i3 = int((1/0.5)*300)\n",
    "    i4 = int(1/np.minimum(20*God_of_War,100))\n",
    "    \n",
    "    if i3<i4:\n",
    "        B = sum(signal[i3:i4])\n",
    "    else:\n",
    "        B = sum(signal[i4:i3])\n",
    "    return A/B"
   ]
  },
  {
   "cell_type": "code",
   "execution_count": 57,
   "metadata": {},
   "outputs": [
    {
     "data": {
      "text/plain": [
       "-1.0240904109272688"
      ]
     },
     "execution_count": 57,
     "metadata": {},
     "output_type": "execute_result"
    }
   ],
   "source": [
    "A3_calc(MIT_signal[0:2400],God_of_War)"
   ]
  },
  {
   "cell_type": "code",
   "execution_count": 58,
   "metadata": {},
   "outputs": [],
   "source": [
    "def SPEC(signal):\n",
    "    Ham = signal*np.hamming(2400)\n",
    "    fourier = scipy.fft(Ham)\n",
    "    fourier_2 = fourier_abs(fourier).real\n",
    "    freq_1 = 0.5\n",
    "    freq_2 = 9\n",
    "\n",
    "    time_1 = 1/9\n",
    "    time_2 = 1/0.5\n",
    "\n",
    "    range1 = int(np.ceil(time_1*300))\n",
    "    range2 = int(np.floor(time_2*300))\n",
    "\n",
    "    fourier_3 = fourier_2[range1:range2]\n",
    "    \n",
    "    m = np.amax(fourier_3)\n",
    "    f = fourier_3.tolist()\n",
    "    \n",
    "    time_max_amp = f.index(m)/300 ## in seconds\n",
    "    if time_max_amp != 0:\n",
    "        God_of_War = 1/time_max_amp\n",
    "    else:\n",
    "        God_of_War = 0\n",
    "    \n",
    "    fourier_final = amp_maxsetter(fourier_2,m)\n",
    "    \n",
    "    A3 = A3_calc(fourier_2,God_of_War)\n",
    "    \n",
    "    return A3"
   ]
  },
  {
   "cell_type": "code",
   "execution_count": 59,
   "metadata": {},
   "outputs": [
    {
     "data": {
      "text/plain": [
       "0.009584663943600327"
      ]
     },
     "execution_count": 59,
     "metadata": {},
     "output_type": "execute_result"
    }
   ],
   "source": [
    "SPEC(MIT_signal[0:2400])"
   ]
  },
  {
   "cell_type": "markdown",
   "metadata": {},
   "source": [
    "## Parameter 5: Complexity Measure Algorithm"
   ]
  },
  {
   "cell_type": "code",
   "execution_count": 60,
   "metadata": {},
   "outputs": [],
   "source": [
    "nurgle = MIT_signal[0:2400]\n",
    "meanbean = np.mean(nurgle)\n",
    "nurgle = nurgle - meanbean\n",
    "Vp = np.amax(nurgle)\n",
    "Vn = np.amin(nurgle)"
   ]
  },
  {
   "cell_type": "code",
   "execution_count": 61,
   "metadata": {},
   "outputs": [
    {
     "data": {
      "text/plain": [
       "[<matplotlib.lines.Line2D at 0x1a82a8be358>]"
      ]
     },
     "execution_count": 61,
     "metadata": {},
     "output_type": "execute_result"
    },
    {
     "data": {
      "image/png": "[encoded data removed]",
      "text/plain": [
       "<Figure size 432x288 with 1 Axes>"
      ]
     },
     "metadata": {
      "needs_background": "light"
     },
     "output_type": "display_data"
    }
   ],
   "source": [
    "plt.plot(time[0:2400],nurgle)"
   ]
  },
  {
   "cell_type": "code",
   "execution_count": 62,
   "metadata": {},
   "outputs": [],
   "source": [
    "def Td(nurgle):\n",
    "    meanbean = np.mean(nurgle)\n",
    "    nurgle = nurgle - meanbean\n",
    "    Vp = np.amax(nurgle)\n",
    "    Vn = np.amin(nurgle)\n",
    "    pc = 0\n",
    "    nc = 0\n",
    "    for i in nurgle:\n",
    "        if i>0 and i<0.1*Vp:\n",
    "            pc+=1\n",
    "        elif i<0 and i>0.1*Vn:\n",
    "            nc+=1\n",
    "    if pc+nc < 0.4*len(nurgle):\n",
    "        T = 0\n",
    "    elif pc<nc:\n",
    "        T = 0.2*Vp\n",
    "    elif pc>nc:\n",
    "        T = 0.2*Vn\n",
    "    return T"
   ]
  },
  {
   "cell_type": "code",
   "execution_count": 63,
   "metadata": {},
   "outputs": [
    {
     "data": {
      "text/plain": [
       "0"
      ]
     },
     "execution_count": 63,
     "metadata": {},
     "output_type": "execute_result"
    }
   ],
   "source": [
    "Threshold = Td(nurgle)\n",
    "Threshold"
   ]
  },
  {
   "cell_type": "code",
   "execution_count": 64,
   "metadata": {},
   "outputs": [],
   "source": [
    "def binary_comp(Threshold,nurgle):\n",
    "    s = []\n",
    "    for i in nurgle:\n",
    "        if i<Threshold:\n",
    "            s.append(0)\n",
    "        else:\n",
    "            s.append(1)\n",
    "    return np.array(s)"
   ]
  },
  {
   "cell_type": "code",
   "execution_count": 65,
   "metadata": {},
   "outputs": [
    {
     "data": {
      "text/plain": [
       "array([1, 1, 1, ..., 0, 0, 0])"
      ]
     },
     "execution_count": 65,
     "metadata": {},
     "output_type": "execute_result"
    }
   ],
   "source": [
    "binary = binary_comp(Threshold,nurgle)\n",
    "binary"
   ]
  },
  {
   "cell_type": "code",
   "execution_count": 66,
   "metadata": {},
   "outputs": [],
   "source": [
    "def substrings(string):\n",
    "    length = len(string)\n",
    "    alist = []\n",
    "    for i in range(length):\n",
    "        for j in range(i,length):\n",
    "            alist.append(string[i:j + 1]) \n",
    "    return alist\n",
    "\n",
    "def complexity(binary,length):\n",
    "    cn = 1\n",
    "    S = [binary[0]]\n",
    "    Q = [binary[1]]\n",
    "    m = 0\n",
    "    while 2 < 3:\n",
    "        con = S+Q\n",
    "        con = con[:-1]\n",
    "        C=substrings(con)\n",
    "        if Q not in C:\n",
    "            m = 0\n",
    "            S = S+Q\n",
    "            if len(S) == len(binary)-1:\n",
    "                cn+=1\n",
    "                break\n",
    "            Q = [binary[len(S)]]\n",
    "            cn+=1\n",
    "        elif Q in C:\n",
    "            k = len(S)+m\n",
    "            if k < len(binary):\n",
    "                Q = Q+[binary[len(S)+m]]\n",
    "                m+=1\n",
    "            else:\n",
    "                break\n",
    "    bn = length/(math.log2(length))\n",
    "    \n",
    "    return cn/bn"
   ]
  },
  {
   "cell_type": "code",
   "execution_count": 67,
   "metadata": {},
   "outputs": [],
   "source": [
    "def complexity_measure(nurgle,length):\n",
    "    Threshold = Td(nurgle)\n",
    "    binary = binary_comp(Threshold,nurgle)\n",
    "    return complexity(binary,length)"
   ]
  },
  {
   "cell_type": "code",
   "execution_count": 68,
   "metadata": {},
   "outputs": [],
   "source": [
    "def comp_measure(signal,length):\n",
    "    l = 0\n",
    "    k = 0\n",
    "    j = 300\n",
    "    for i in range(0,8):\n",
    "        l += complexity_measure(signal[k:j],length)\n",
    "        k+=300\n",
    "        j+=300\n",
    "    return l"
   ]
  },
  {
   "cell_type": "code",
   "execution_count": 69,
   "metadata": {},
   "outputs": [
    {
     "data": {
      "text/plain": [
       "0.21521902490117104"
      ]
     },
     "execution_count": 69,
     "metadata": {},
     "output_type": "execute_result"
    }
   ],
   "source": [
    "comp_measure(MIT_signal,2400)"
   ]
  },
  {
   "cell_type": "markdown",
   "metadata": {},
   "source": [
    "## Parameter 6: Standard Exponential Algorithm"
   ]
  },
  {
   "cell_type": "code",
   "execution_count": 80,
   "metadata": {},
   "outputs": [],
   "source": [
    "def std_exp_algthm(t,signal,Tau):\n",
    "    M = np.amax(signal)\n",
    "    tm = (np.where(signal==M))[0]/300\n",
    "    exp_part = np.exp((-1*np.absolute(t-tm))/Tau)\n",
    "    curve = M*exp_part\n",
    "    \n",
    "    plt.figure(figsize=(20,10))\n",
    "    plt.plot(t,signal)\n",
    "    plt.plot(t,curve)\n",
    "    idx = np.argwhere(np.diff(np.sign(signal-curve))).flatten()\n",
    "    plt.plot(t[idx],signal[idx],'ro')\n",
    "    \n",
    "    Time_length = len(signal)/300\n",
    "    int_num = len(idx)\n",
    "    N = (int_num/Time_length)*60\n",
    "    return N"
   ]
  },
  {
   "cell_type": "code",
   "execution_count": 81,
   "metadata": {
    "scrolled": false
   },
   "outputs": [
    {
     "data": {
      "text/plain": [
       "165.0"
      ]
     },
     "execution_count": 81,
     "metadata": {},
     "output_type": "execute_result"
    },
    {
     "data": {
      "image/png": "[encoded data removed]",
      "text/plain": [
       "<Figure size 1440x720 with 1 Axes>"
      ]
     },
     "metadata": {
      "needs_background": "light"
     },
     "output_type": "display_data"
    }
   ],
   "source": [
    "std_exp_algthm(tt[2][0][0:2400],ss[2][0][0:2400],3)"
   ]
  },
  {
   "cell_type": "code",
   "execution_count": 82,
   "metadata": {},
   "outputs": [
    {
     "data": {
      "text/plain": [
       "array([0.00000000e+00, 2.77777778e-03, 5.55555556e-03, ...,\n",
       "       1.80500000e+03, 1.80500278e+03, 1.80500556e+03])"
      ]
     },
     "execution_count": 82,
     "metadata": {},
     "output_type": "execute_result"
    }
   ],
   "source": [
    "time"
   ]
  },
  {
   "cell_type": "code",
   "execution_count": 83,
   "metadata": {},
   "outputs": [
    {
     "data": {
      "text/plain": [
       "array([0.00000000e+00, 3.33333333e-03, 6.66666667e-03, ...,\n",
       "       1.10466667e+01, 1.10500000e+01, 1.10533333e+01])"
      ]
     },
     "execution_count": 83,
     "metadata": {},
     "output_type": "execute_result"
    }
   ],
   "source": [
    "tt[0][0]"
   ]
  },
  {
   "cell_type": "markdown",
   "metadata": {},
   "source": [
    "## Parameter 7: Modified Exponential Algorithm"
   ]
  },
  {
   "cell_type": "code",
   "execution_count": 150,
   "metadata": {},
   "outputs": [],
   "source": [
    "### Note that the function only works by the book if the starting point is a maximum\n",
    "\n",
    "def MEA(t,signal,Tau):\n",
    "    real_curve = [1.0]*len(t)\n",
    "    index_M  = argrelextrema(signal,np.greater)\n",
    "    idx_M = index_M[0]\n",
    "    gladiator = np.amax(signal)\n",
    "    idx_M2 = []\n",
    "    for i in idx_M:\n",
    "        if signal[i]>0.2*gladiator:\n",
    "            idx_M2.append(i)\n",
    "    idx_M2 = np.array(idx_M2)\n",
    "    idx_M1 = []\n",
    "    for i in idx_M:\n",
    "        if signal[i]>0.1*gladiator:\n",
    "            idx_M1.append(i)\n",
    "    idx_M1 = np.array(idx_M1)\n",
    "    \n",
    "    ## draw the first curve\n",
    "    pt = 0\n",
    "    qqq = 0\n",
    "    lifts=0\n",
    "    while 2 < 3: \n",
    "        if pt >= idx_M[-1]: \n",
    "            break\n",
    "        M1 = signal[pt]\n",
    "        tm1 = t[pt]\n",
    "        curve_1 = M1*np.exp(-1*(t-tm1)/(Tau))\n",
    "        idx_1 = np.argwhere(np.diff(np.sign(signal-curve_1))).flatten()\n",
    "        for i in idx_1:\n",
    "            if i > 10+pt:\n",
    "                idx_work = i\n",
    "                break\n",
    "        ## find all the maxes \n",
    "        for j in range(len(idx_M)):\n",
    "            if idx_work <= idx_M[j]:\n",
    "                idx_M_work = idx_M[j]\n",
    "                break\n",
    "        real_curve[pt:idx_work] = (curve_1[pt:idx_work])\n",
    "        real_curve[idx_work:idx_M_work]=(signal[idx_work:idx_M_work])\n",
    "        pt = idx_M_work\n",
    "        if pt ==qqq:\n",
    "            break\n",
    "        qqq = idx_M_work\n",
    "        lifts+=1\n",
    "        if pt >= idx_M[-1]:     ### Also note that the main problem with the algorithm is that I don't know what I should set as a condition to end the function yet\n",
    "            break\n",
    "    idx_final = np.argwhere(np.diff(np.sign(signal-real_curve))).flatten()\n",
    "    #plt.figure(figsize=(20,10))\n",
    "    #plt.plot(t,signal,color=\"blue\")\n",
    "    #plt.plot(t,real_curve,color=\"green\")\n",
    "    #plt.plot(t[idx_final],signal[idx_final],'ro')\n",
    "    pt=idx_M_work\n",
    "    Time_length = t[pt]-t[0]\n",
    "    form = lifts/Time_length\n",
    "    return form*60"
   ]
  },
  {
   "cell_type": "code",
   "execution_count": 151,
   "metadata": {},
   "outputs": [
    {
     "data": {
      "text/plain": [
       "144.32071269487753"
      ]
     },
     "execution_count": 151,
     "metadata": {},
     "output_type": "execute_result"
    }
   ],
   "source": [
    "MEA(tm[37][0:2400],sm[37][0:2400],0.2)"
   ]
  },
  {
   "cell_type": "code",
   "execution_count": 100,
   "metadata": {},
   "outputs": [
    {
     "data": {
      "text/plain": [
       "[<matplotlib.lines.Line2D at 0x1a842d1d438>]"
      ]
     },
     "execution_count": 100,
     "metadata": {},
     "output_type": "execute_result"
    },
    {
     "data": {
      "image/png": "[encoded data removed]",
      "text/plain": [
       "<Figure size 432x288 with 1 Axes>"
      ]
     },
     "metadata": {
      "needs_background": "light"
     },
     "output_type": "display_data"
    }
   ],
   "source": [
    "plt.plot(sm[37])"
   ]
  },
  {
   "cell_type": "code",
   "execution_count": 86,
   "metadata": {
    "scrolled": true
   },
   "outputs": [
    {
     "ename": "SyntaxError",
     "evalue": "invalid syntax (<ipython-input-86-269339334826>, line 16)",
     "output_type": "error",
     "traceback": [
      "\u001b[1;36m  File \u001b[1;32m\"<ipython-input-86-269339334826>\"\u001b[1;36m, line \u001b[1;32m16\u001b[0m\n\u001b[1;33m    if len(idx_1)\u001b[0m\n\u001b[1;37m                 ^\u001b[0m\n\u001b[1;31mSyntaxError\u001b[0m\u001b[1;31m:\u001b[0m invalid syntax\n"
     ]
    }
   ],
   "source": [
    "def MEA(t,signal,Tau):\n",
    "    real_curve = [1.0]*len(t)\n",
    "    index_M  = argrelextrema(signal,np.greater)\n",
    "    idx_q = index_M[0]\n",
    "    idx_M = []\n",
    "    for i in idx_q:\n",
    "        if i>0:\n",
    "            idx_M.append(i)\n",
    "    idx_M = np.array(idx_M)\n",
    "    pt = 0\n",
    "    lifts = 0\n",
    "    curve = signal[0]*np.exp(-1*(t-tm1)/(Tau))\n",
    "    idx_1 = np.argwhere(np.diff(np.sign(signal-curve))).flatten()\n",
    "    \n",
    "    while 2 < 3:\n",
    "        if len(idx_1)\n",
    "        next_max = 0\n",
    "        for i in idx_M:\n",
    "            if idx_1[0]<=i:\n",
    "                next_max = i\n",
    "            else:\n",
    "                next_max = signal[-1]\n",
    "        \n",
    "        "
   ]
  },
  {
   "cell_type": "code",
   "execution_count": 87,
   "metadata": {},
   "outputs": [
    {
     "data": {
      "text/plain": [
       "[<matplotlib.lines.Line2D at 0x1a829e51a90>]"
      ]
     },
     "execution_count": 87,
     "metadata": {},
     "output_type": "execute_result"
    },
    {
     "data": {
      "image/png": "[encoded data removed]",
      "text/plain": [
       "<Figure size 432x288 with 1 Axes>"
      ]
     },
     "metadata": {
      "needs_background": "light"
     },
     "output_type": "display_data"
    }
   ],
   "source": [
    "plt.plot(ss[2][34])"
   ]
  },
  {
   "cell_type": "code",
   "execution_count": null,
   "metadata": {},
   "outputs": [],
   "source": [
    "index_M  = argrelextrema(ss[2][34][0:2400],np.greater)\n",
    "idx_q = index_M[0]\n",
    "gladiator = np.amax(ss[2][34])\n",
    "idx_M = []\n",
    "for i in idx_q:\n",
    "    if ss[2][34][i]>0.000005*gladiator:\n",
    "        idx_M.append(i)"
   ]
  },
  {
   "cell_type": "code",
   "execution_count": null,
   "metadata": {},
   "outputs": [],
   "source": [
    "plt.plot(tt[2][34][0:2400],ss[2][34][0:2400])\n",
    "plt.scatter(tt[2][34][idx_M],ss[2][34][idx_M],color=\"Red\")"
   ]
  },
  {
   "cell_type": "code",
   "execution_count": null,
   "metadata": {},
   "outputs": [],
   "source": [
    "## take the max after the 8 second interval where the first lift after that will happen\n",
    "q = argrelextrema(MIT_signal[0:3300],np.greater)\n",
    "q"
   ]
  },
  {
   "cell_type": "code",
   "execution_count": null,
   "metadata": {},
   "outputs": [],
   "source": [
    "q[0][0]"
   ]
  },
  {
   "cell_type": "code",
   "execution_count": null,
   "metadata": {},
   "outputs": [],
   "source": [
    "q = wfdb.processing.find_peaks(MIT_signal[0:2800])[0]"
   ]
  },
  {
   "cell_type": "code",
   "execution_count": null,
   "metadata": {},
   "outputs": [],
   "source": [
    "plt.plot(time[0:2800],MIT_signal[0:2800])\n",
    "plt.scatter(time[q],MIT_signal[q],color=\"red\")"
   ]
  },
  {
   "cell_type": "code",
   "execution_count": null,
   "metadata": {
    "scrolled": true
   },
   "outputs": [],
   "source": [
    "plt.figure(figsize=(10,5))\n",
    "plt.plot(MIT_signal[0:2444])"
   ]
  },
  {
   "cell_type": "code",
   "execution_count": null,
   "metadata": {},
   "outputs": [],
   "source": [
    "fs=360\n",
    "s1 = wfdb.io.rdsamp(\"C:/Users/ahmad/Desktop/UC3M/Thesis/Python_Workspace/Code_thesis/Data_thesis/MIT/101\")\n",
    "s1 = signal_creator(s1)\n",
    "t1 = np.arange(s1.size)/fs\n",
    "s1,t1= signal_preprocessor(s1,t1,360,30)"
   ]
  },
  {
   "cell_type": "code",
   "execution_count": null,
   "metadata": {},
   "outputs": [],
   "source": [
    "## Make sure to specify the time interval, take the starting point to be a maximum, and the end point \n",
    "## to be a maximum where a lift is likely to happen\n",
    "def MEA_solver(signal,time):\n",
    "    q = argrelextrema(signal[0:3300],np.greater)[0]\n",
    "    return MEA(time[0:q[-2]],signal[0:q[-2]],0.2)"
   ]
  },
  {
   "cell_type": "code",
   "execution_count": null,
   "metadata": {},
   "outputs": [],
   "source": [
    "MEA_solver(MIT_signal,time)"
   ]
  },
  {
   "cell_type": "markdown",
   "metadata": {},
   "source": [
    "## Parameter 8: Signal Comparison"
   ]
  },
  {
   "cell_type": "code",
   "execution_count": null,
   "metadata": {},
   "outputs": [],
   "source": [
    "signal = MIT_signal[0:2400]\n",
    "signal = wfdb.processing.normalize_bound(signal, lb=0, ub=1)\n",
    "time_1 = time[0:2400]\n",
    "qrs_inds = processing.xqrs_detect(sig=signal, fs=85)"
   ]
  },
  {
   "cell_type": "code",
   "execution_count": null,
   "metadata": {},
   "outputs": [],
   "source": [
    "wfdb.plot_items(signal=signal, ann_samp=[qrs_inds])\n",
    "qrs_inds"
   ]
  },
  {
   "cell_type": "code",
   "execution_count": null,
   "metadata": {},
   "outputs": [],
   "source": [
    "plt.figure(figsize=(10,5))\n",
    "plt.plot(time_1,signal)\n",
    "plt.scatter(time_1[qrs_inds],signal[qrs_inds],color=\"red\")"
   ]
  },
  {
   "cell_type": "markdown",
   "metadata": {},
   "source": [
    "Let's create the first signal:"
   ]
  },
  {
   "cell_type": "code",
   "execution_count": null,
   "metadata": {},
   "outputs": [],
   "source": [
    "MIT_signal_1 = wfdb.io.rdsamp(\"C:/Users/ahmad/Desktop/UC3M/Thesis/Python_Workspace/Code_thesis/Data_thesis/MIT/102\")\n",
    "\n",
    "MIT_data_1 = signal_creator(MIT_signal_1)\n",
    "\n",
    "fs = 360\n",
    "time = np.arange(MIT_data_1.size)/fs\n",
    "MIT_signal_1,time_2 = signal_preprocessor(MIT_data_1,time,360,30)\n",
    "MIT_signal_1 = wfdb.processing.normalize_bound(MIT_signal_1, lb=0, ub=1)\n",
    "MIT_signal_1,time_2"
   ]
  },
  {
   "cell_type": "markdown",
   "metadata": {},
   "source": [
    "Adjust the peaks to match the QRS points found for the signal we want to examine:"
   ]
  },
  {
   "cell_type": "code",
   "execution_count": null,
   "metadata": {},
   "outputs": [],
   "source": [
    "SCA_1 = MIT_signal_1[0:2400]\n",
    "qrs_inds_2 = processing.xqrs_detect(sig=SCA_1, fs=45)"
   ]
  },
  {
   "cell_type": "code",
   "execution_count": null,
   "metadata": {},
   "outputs": [],
   "source": [
    "plt.plot(time_1,SCA_1)\n",
    "plt.scatter(time_1[qrs_inds_2],SCA_1[qrs_inds_2],color = \"red\")"
   ]
  },
  {
   "cell_type": "markdown",
   "metadata": {},
   "source": [
    "Now to create the second signal:"
   ]
  },
  {
   "cell_type": "code",
   "execution_count": null,
   "metadata": {
    "scrolled": true
   },
   "outputs": [],
   "source": [
    "fs=360\n",
    "s1 = wfdb.io.rdsamp(\"C:/Users/ahmad/Desktop/UC3M/Thesis/Python_Workspace/Code_thesis/Data_thesis/MIT/101\")\n",
    "s1 = signal_creator(s1)\n",
    "t1 = np.arange(s1.size)/fs\n",
    "s1,t1= signal_preprocessor(s1,t1,360,30)\n",
    "#s1 = wfdb.processing.normalize_bound(s1, lb=-1, ub=1)\n",
    "\n",
    "s2 = wfdb.io.rdsamp(\"C:/Users/ahmad/Desktop/UC3M/Thesis/Python_Workspace/Code_thesis/Data_thesis/MIT/103\")\n",
    "s2 = signal_creator(s2)\n",
    "t2 = np.arange(s2.size)/fs\n",
    "s2,t2= signal_preprocessor(s2,t2,360,30)\n",
    "#s2 = wfdb.processing.normalize_bound(s2, lb=-1, ub=1)\n",
    "\n",
    "s3 = wfdb.io.rdsamp(\"C:/Users/ahmad/Desktop/UC3M/Thesis/Python_Workspace/Code_thesis/Data_thesis/MIT/105\")\n",
    "s3 = signal_creator(s3)\n",
    "t3 = np.arange(s3.size)/fs\n",
    "s3,t3= signal_preprocessor(s3,t3,360,30)\n",
    "#s3 = wfdb.processing.normalize_bound(s3, lb=-1, ub=1)\n",
    "\n",
    "s4 = wfdb.io.rdsamp(\"C:/Users/ahmad/Desktop/UC3M/Thesis/Python_Workspace/Code_thesis/Data_thesis/MIT/106\")\n",
    "s4 = signal_creator(s4)\n",
    "t4 = np.arange(s4.size)/fs\n",
    "s4,t4= signal_preprocessor(s4,t4,360,30)\n",
    "#s4 = wfdb.processing.normalize_bound(s4, lb=-1, ub=1)\n",
    "\n",
    "s5 = wfdb.io.rdsamp(\"C:/Users/ahmad/Desktop/UC3M/Thesis/Python_Workspace/Code_thesis/Data_thesis/MIT/108\")\n",
    "s5 = signal_creator(s5)\n",
    "t5 = np.arange(s5.size)/fs\n",
    "s5,t5= signal_preprocessor(s5,t5,360,30)\n",
    "#s5 = wfdb.processing.normalize_bound(s5, lb=-1, ub=1)\n",
    "\n",
    "s6 = wfdb.io.rdsamp(\"C:/Users/ahmad/Desktop/UC3M/Thesis/Python_Workspace/Code_thesis/Data_thesis/MIT/109\")\n",
    "s6 = signal_creator(s6)\n",
    "t6 = np.arange(s6.size)/fs\n",
    "s6,t6= signal_preprocessor(s6,t6,360,30)\n",
    "#s6 = wfdb.processing.normalize_bound(s6, lb=-1, ub=1)\n",
    "\n",
    "s7 = wfdb.io.rdsamp(\"C:/Users/ahmad/Desktop/UC3M/Thesis/Python_Workspace/Code_thesis/Data_thesis/MIT/111\")\n",
    "s7 = signal_creator(s7)\n",
    "t7 = np.arange(s7.size)/fs\n",
    "s7,t7= signal_preprocessor(s7,t7,360,30)\n",
    "#s7 = wfdb.processing.normalize_bound(s7, lb=-1, ub=1)\n",
    "\n",
    "s8 = wfdb.io.rdsamp(\"C:/Users/ahmad/Desktop/UC3M/Thesis/Python_Workspace/Code_thesis/Data_thesis/MIT/112\")\n",
    "s8 = signal_creator(s8)\n",
    "t8 = np.arange(s8.size)/fs\n",
    "s8,t8= signal_preprocessor(s8,t8,360,30)\n",
    "#s8 = wfdb.processing.normalize_bound(s8, lb=-1, ub=1)\n",
    "\n",
    "s9 = wfdb.io.rdsamp(\"C:/Users/ahmad/Desktop/UC3M/Thesis/Python_Workspace/Code_thesis/Data_thesis/MIT/113\")\n",
    "s9 = signal_creator(s9)\n",
    "t9 = np.arange(s9.size)/fs\n",
    "s9,t9= signal_preprocessor(s9,t9,360,30)\n",
    "#s9 = wfdb.processing.normalize_bound(s9, lb=-1, ub=1)\n",
    "\n",
    "s10 = wfdb.io.rdsamp(\"C:/Users/ahmad/Desktop/UC3M/Thesis/Python_Workspace/Code_thesis/Data_thesis/MIT/114\")\n",
    "s10 = signal_creator(s10)\n",
    "t10 = np.arange(s10.size)/fs\n",
    "s10,t10= signal_preprocessor(s10,t10,360,30)\n",
    "#s10 = wfdb.processing.normalize_bound(s10, lb=-1, ub=1)\n",
    "\n",
    "s11 = wfdb.io.rdsamp(\"C:/Users/ahmad/Desktop/UC3M/Thesis/Python_Workspace/Code_thesis/Data_thesis/MIT/115\")\n",
    "s11 = signal_creator(s11)\n",
    "t11 = np.arange(s11.size)/fs\n",
    "s11,t11= signal_preprocessor(s11,t11,360,30)\n",
    "#s11 = wfdb.processing.normalize_bound(s11, lb=-1, ub=1)\n",
    "\n",
    "s12 = wfdb.io.rdsamp(\"C:/Users/ahmad/Desktop/UC3M/Thesis/Python_Workspace/Code_thesis/Data_thesis/MIT/116\")\n",
    "s12 = signal_creator(s12)\n",
    "t12 = np.arange(s12.size)/fs\n",
    "s12,t12= signal_preprocessor(s12,t12,360,30)\n",
    "#s12 = wfdb.processing.normalize_bound(s12, lb=-1, ub=1)\n",
    "\n",
    "s13 = wfdb.io.rdsamp(\"C:/Users/ahmad/Desktop/UC3M/Thesis/Python_Workspace/Code_thesis/Data_thesis/MIT/117\")\n",
    "s13 = signal_creator(s13)\n",
    "t13 = np.arange(s13.size)/fs\n",
    "s13,t13= signal_preprocessor(s13,t13,360,30)\n",
    "#s13 = wfdb.processing.normalize_bound(s13, lb=-1, ub=1)\n",
    "\n",
    "s14 = wfdb.io.rdsamp(\"C:/Users/ahmad/Desktop/UC3M/Thesis/Python_Workspace/Code_thesis/Data_thesis/MIT/118\")\n",
    "s14 = signal_creator(s14)\n",
    "t14 = np.arange(s14.size)/fs\n",
    "s14,t14= signal_preprocessor(s14,t14,360,30)\n",
    "#s14 = wfdb.processing.normalize_bound(s14, lb=-1, ub=1)\n",
    "\n",
    "s15 = wfdb.io.rdsamp(\"C:/Users/ahmad/Desktop/UC3M/Thesis/Python_Workspace/Code_thesis/Data_thesis/MIT/119\")\n",
    "s15 = signal_creator(s15)\n",
    "t15 = np.arange(s15.size)/fs\n",
    "s15,t15= signal_preprocessor(s15,t15,360,30)\n",
    "#s15 = wfdb.processing.normalize_bound(s15, lb=-1, ub=1)\n",
    "\n",
    "s16 = wfdb.io.rdsamp(\"C:/Users/ahmad/Desktop/UC3M/Thesis/Python_Workspace/Code_thesis/Data_thesis/MIT/121\")\n",
    "s16 = signal_creator(s16)\n",
    "t16 = np.arange(s16.size)/fs\n",
    "s16,t16= signal_preprocessor(s16,t16,360,30)\n",
    "#s16 = wfdb.processing.normalize_bound(s16, lb=-1, ub=1)"
   ]
  },
  {
   "cell_type": "code",
   "execution_count": null,
   "metadata": {},
   "outputs": [],
   "source": [
    "plt.xlim(0,2400)\n",
    "plt.plot(s1)\n",
    "plt.plot(s2)\n",
    "plt.plot(s3)\n",
    "plt.plot(s4)\n",
    "plt.plot(s5)\n",
    "plt.plot(s6)\n",
    "plt.plot(s7)\n",
    "plt.plot(s8)\n",
    "plt.plot(s9)\n",
    "plt.plot(s10)\n",
    "plt.plot(s11)\n",
    "plt.plot(s12)\n",
    "plt.plot(s13)\n",
    "plt.plot(s14)\n",
    "plt.plot(s15)\n",
    "plt.plot(s16)"
   ]
  },
  {
   "cell_type": "code",
   "execution_count": null,
   "metadata": {},
   "outputs": [],
   "source": [
    "def signal_size_adjustor(signal):\n",
    "    k = len(signal)-1\n",
    "    m = np.mean(signal)\n",
    "    signal = signal.tolist()\n",
    "    while k < 650000:\n",
    "        signal.append(m)\n",
    "        k+=1\n",
    "    time = np.arange(np.array(signal).size)/300\n",
    "    return np.array(signal),time"
   ]
  },
  {
   "cell_type": "code",
   "execution_count": null,
   "metadata": {},
   "outputs": [],
   "source": [
    "def starting_point_2(signal,t):\n",
    "    M = np.amax(signal[8:500])\n",
    "    ss = signal.tolist()\n",
    "    index_M = ss.index(M)\n",
    "    signal_start = signal[index_M:-1]\n",
    "    fs=300\n",
    "    time_M = np.arange(signal_start.size)/fs\n",
    "    return signal_start,time_M"
   ]
  },
  {
   "cell_type": "code",
   "execution_count": null,
   "metadata": {},
   "outputs": [],
   "source": [
    "sig_array = [s1,s2,s3,s4,s5,s6,s7,s8,s9,s10,s11,s12,s13,s14,s15,s16]\n",
    "time_array = [t1,t2,t3,t4,t5,t6,t7,t8,t9,t10,t11,t12,t13,t14,t15,t16]\n",
    "sig_1 = []\n",
    "sig_2 = []\n",
    "for i in range(0,16):\n",
    "    x,y = starting_point_2(sig_array[i],time_array[i])\n",
    "    sig_1.append(x)\n",
    "    sig_2.append(y)"
   ]
  },
  {
   "cell_type": "code",
   "execution_count": null,
   "metadata": {},
   "outputs": [],
   "source": [
    "ss = s1\n",
    "M = np.amax(s1[8:500])\n",
    "sss = ss.tolist()\n",
    "sss.index(M)"
   ]
  },
  {
   "cell_type": "code",
   "execution_count": null,
   "metadata": {},
   "outputs": [],
   "source": [
    "plt.xlim(0,2400)\n",
    "plt.plot(sig_1[0])\n",
    "plt.plot(sig_1[1])\n",
    "plt.plot(sig_1[2])\n",
    "plt.plot(sig_1[3])"
   ]
  },
  {
   "cell_type": "code",
   "execution_count": null,
   "metadata": {},
   "outputs": [],
   "source": [
    "sig_3 = []\n",
    "sig_4 = []\n",
    "for i in range(0,16):\n",
    "    x,y = signal_size_adjustor(sig_1[i])\n",
    "    sig_3.append(x)\n",
    "    sig_4.append(y)"
   ]
  },
  {
   "cell_type": "code",
   "execution_count": null,
   "metadata": {},
   "outputs": [],
   "source": [
    "avg = []\n",
    "for i in range(0,650001):\n",
    "    avg.append(0)\n",
    "avg = np.array(avg)\n",
    "for i in sig_3:\n",
    "    avg = avg + i\n",
    "avg = avg/len(sig_3)"
   ]
  },
  {
   "cell_type": "code",
   "execution_count": null,
   "metadata": {
    "scrolled": true
   },
   "outputs": [],
   "source": [
    "SCA_2 = avg\n",
    "SCA_2,t1= signal_preprocessor(SCA_2,sig_4[0],360,50)\n",
    "plt.xlim(0,8)\n",
    "plt.plot(t1,SCA_2)"
   ]
  },
  {
   "cell_type": "code",
   "execution_count": null,
   "metadata": {},
   "outputs": [],
   "source": [
    "plt.plot(t1, signal_second)\n",
    "plt.xlim(0,10)"
   ]
  },
  {
   "cell_type": "markdown",
   "metadata": {},
   "source": [
    "Now for the third signal, it just has an elevated T wave:"
   ]
  },
  {
   "cell_type": "code",
   "execution_count": null,
   "metadata": {
    "scrolled": true
   },
   "outputs": [],
   "source": [
    "SCA_3 = wfdb.io.rdsamp(\"C:/Users/ahmad/Desktop/UC3M/Thesis/Python_Workspace/Code_thesis/Data_thesis/MIT/107\")\n",
    "SCA_3 = signal_creator(SCA_3)\n",
    "time_third = np.arange(SCA_3.size)/fs\n",
    "SCA_3,time_third= signal_preprocessor(SCA_3,time_third,360,30)"
   ]
  },
  {
   "cell_type": "markdown",
   "metadata": {},
   "source": [
    "For the fourth signal:"
   ]
  },
  {
   "cell_type": "code",
   "execution_count": null,
   "metadata": {},
   "outputs": [],
   "source": [
    "x = []\n",
    "spacing1 = len(signal)/(len(qrs_inds)-1)\n",
    "for i in range(len(signal[qrs_inds])-1):\n",
    "    spacing2 = (signal[qrs_inds[i+1]] - signal[qrs_inds[i]])/spacing1\n",
    "    y = np.arange(signal[qrs_inds[i]],signal[qrs_inds[i+1]],spacing2) ##Needs to be a formula\n",
    "    for i in y:\n",
    "        x.append(i)\n",
    "x = np.array(x)\n",
    "SCA_4 = np.cos(x)\n",
    "plt.plot(SCA_4)\n",
    "len(SCA_4)\n",
    "SCA_4 = np.resize(SCA_4,(2400,))"
   ]
  },
  {
   "cell_type": "markdown",
   "metadata": {},
   "source": [
    "Now for the residual calculation"
   ]
  },
  {
   "cell_type": "code",
   "execution_count": null,
   "metadata": {},
   "outputs": [],
   "source": [
    "I0 = qrs_inds[0]\n",
    "I1 = qrs_inds[-1]"
   ]
  },
  {
   "cell_type": "code",
   "execution_count": null,
   "metadata": {},
   "outputs": [],
   "source": [
    "def Integral_calc(S,F,I0,I1):\n",
    "    y = np.absolute(S-F)\n",
    "    R = integrate.simps(y[I0:I1])\n",
    "    return R"
   ]
  },
  {
   "cell_type": "code",
   "execution_count": null,
   "metadata": {},
   "outputs": [],
   "source": [
    "RF   = Integral_calc(signal,SCA_4,I0,I1)\n",
    "RFS1 = Integral_calc(signal,SCA_1[0:2400],I0,I1)\n",
    "RFS2 = Integral_calc(signal,SCA_2[0:2400],I0,I1)\n",
    "RFS3 = Integral_calc(signal,SCA_3[0:2400],I0,I1)\n",
    "print(\"RF = \",RF)\n",
    "print(\"RFS1 = \",RFS1)\n",
    "print(\"RFS2 = \",RFS2)\n",
    "print(\"RFS3 = \",RFS3)"
   ]
  },
  {
   "cell_type": "code",
   "execution_count": null,
   "metadata": {},
   "outputs": [],
   "source": [
    "IF  = Integral_calc(SCA_4,0,I0,I1)\n",
    "IE  = Integral_calc(signal,0,I0,I1)\n",
    "IS1 = Integral_calc(SCA_1[0:2400],0,I0,I1)\n",
    "IS2 = Integral_calc(SCA_2[0:2400],0,I0,I1)\n",
    "IS3 = Integral_calc(SCA_3[0:2400],0,I0,I1)\n",
    "\n",
    "print(\"IF = \",IF)\n",
    "print(\"IE = \",IE)\n",
    "print(\"IS1 = \",IS1)\n",
    "print(\"IS2 = \",IS2)\n",
    "print(\"IS3 = \",IS3)"
   ]
  },
  {
   "cell_type": "code",
   "execution_count": null,
   "metadata": {},
   "outputs": [],
   "source": [
    "VRF = (RF/min(IF,IE))\n",
    "VRS1 = RFS1/min(IS1,IE)\n",
    "VRS2 = RFS2/min(IS2,IE)\n",
    "VRS3 = RFS3/min(IS3,IE)\n",
    "\n",
    "print(\"VRF = \",VRF)\n",
    "print(\"VRS1 = \",VRS1)\n",
    "print(\"VRS2 = \",VRS2)\n",
    "print(\"VRS3 = \",VRS3)"
   ]
  },
  {
   "cell_type": "code",
   "execution_count": null,
   "metadata": {},
   "outputs": [],
   "source": [
    "t1 = VRF/VRS1\n",
    "t2 = VRF/VRS2\n",
    "t3 = VRF/VRS3\n",
    "\n",
    "print(\"t1 = \",t1)\n",
    "print(\"t2 = \",t2)\n",
    "print(\"t3 = \",t3)"
   ]
  },
  {
   "cell_type": "code",
   "execution_count": null,
   "metadata": {},
   "outputs": [],
   "source": [
    "x= [1,2,3]\n",
    "np.array(x)"
   ]
  },
  {
   "cell_type": "code",
   "execution_count": null,
   "metadata": {},
   "outputs": [],
   "source": [
    "def SCA(signal):\n",
    "    \n",
    "    signal = wfdb.processing.normalize_bound(signal, lb=0, ub=1)\n",
    "    qrs_inds = processing.xqrs_detect(sig=signal, fs=85)\n",
    "    \n",
    "    I0 = qrs_inds[0]\n",
    "    I1 = qrs_inds[-1]\n",
    "    \n",
    "    RF   = Integral_calc(signal,SCA_4,I0,I1)\n",
    "    RFS1 = Integral_calc(signal,SCA_1[0:2400],I0,I1)\n",
    "    RFS2 = Integral_calc(signal,SCA_2[0:2400],I0,I1)\n",
    "    RFS3 = Integral_calc(signal,SCA_3[0:2400],I0,I1)\n",
    "    IF  = Integral_calc(SCA_4,0,I0,I1)\n",
    "    IE  = Integral_calc(signal,0,I0,I1)\n",
    "    IS1 = Integral_calc(SCA_1[0:2400],0,I0,I1)\n",
    "    IS2 = Integral_calc(SCA_2[0:2400],0,I0,I1)\n",
    "    IS3 = Integral_calc(SCA_3[0:2400],0,I0,I1)\n",
    "    VRF = (RF/min(IF,IE))\n",
    "    VRS1 = RFS1/min(IS1,IE)\n",
    "    VRS2 = RFS2/min(IS2,IE)\n",
    "    VRS3 = RFS3/min(IS3,IE)\n",
    "    t1 = VRF/VRS1\n",
    "    t2 = VRF/VRS2\n",
    "    t3 = VRF/VRS3\n",
    "    \n",
    "    l = [t1,t2,t3]\n",
    "    \n",
    "    return np.array(l)"
   ]
  },
  {
   "cell_type": "code",
   "execution_count": null,
   "metadata": {},
   "outputs": [],
   "source": [
    "SCA(MIT_signal[0:2400])"
   ]
  },
  {
   "cell_type": "markdown",
   "metadata": {},
   "source": [
    "How do I take the average of the signals?"
   ]
  },
  {
   "cell_type": "markdown",
   "metadata": {},
   "source": [
    "# Parameter 9: Wavelet Based Algorithms"
   ]
  },
  {
   "cell_type": "markdown",
   "metadata": {},
   "source": [
    "## Wavelet 1:"
   ]
  },
  {
   "cell_type": "code",
   "execution_count": null,
   "metadata": {},
   "outputs": [],
   "source": [
    "pywt.wavelist()"
   ]
  },
  {
   "cell_type": "code",
   "execution_count": null,
   "metadata": {},
   "outputs": [],
   "source": [
    "wavelet1 = pywt.cwt(MIT_signal,200,\"mexh\")\n",
    "plt.plot(wavelet1[0][0])\n",
    "plt.xlim(0,4800)"
   ]
  },
  {
   "cell_type": "code",
   "execution_count": null,
   "metadata": {},
   "outputs": [],
   "source": [
    "fourier1 = fft(wavelet1[0][0])\n",
    "plt.plot(fourier1)"
   ]
  },
  {
   "cell_type": "code",
   "execution_count": null,
   "metadata": {},
   "outputs": [],
   "source": [
    "freq_cst = (1/(np.sqrt(2*np.pi)))"
   ]
  },
  {
   "cell_type": "code",
   "execution_count": null,
   "metadata": {},
   "outputs": [],
   "source": [
    "fourier1 = np.absolute(fourier1)\n",
    "fourier1 = freq_cst*fourier1\n",
    "plt.plot(fourier1)"
   ]
  },
  {
   "cell_type": "code",
   "execution_count": null,
   "metadata": {},
   "outputs": [],
   "source": [
    "M = argrelextrema(fourier1,np.greater)[0]\n",
    "plt.plot(time[0:len(fourier1)],fourier1)\n",
    "plt.scatter(time[M],fourier1[M],color='red')\n",
    "plt.xlim(0,10)"
   ]
  },
  {
   "cell_type": "code",
   "execution_count": null,
   "metadata": {},
   "outputs": [],
   "source": [
    "plt.plot(fourier1[M[0:2400]])\n",
    "len(fourier1[M[0:2400]])"
   ]
  },
  {
   "cell_type": "code",
   "execution_count": null,
   "metadata": {},
   "outputs": [],
   "source": [
    "def SPEC2(signal):\n",
    "    freq_1 = 0.5\n",
    "    freq_2 = 9\n",
    "\n",
    "    time_1 = 1/9\n",
    "    time_2 = 1/0.5\n",
    "\n",
    "    range1 = int(np.ceil(time_1*300))\n",
    "    range2 = int(np.floor(time_2*300))\n",
    "\n",
    "    fourier_3 = signal[range1:range2]\n",
    "    \n",
    "    m = np.amax(fourier_3)\n",
    "    f = fourier_3.tolist()\n",
    "    \n",
    "    time_max_amp = f.index(m)/300 ## in seconds\n",
    "    if time_max_amp != 0:\n",
    "        God_of_War = 1/time_max_amp\n",
    "    else:\n",
    "        God_of_War = 0\n",
    "    \n",
    "    A3 = A3_calc(signal,God_of_War)\n",
    "    \n",
    "    return A3"
   ]
  },
  {
   "cell_type": "code",
   "execution_count": null,
   "metadata": {},
   "outputs": [],
   "source": [
    "SPEC2(fourier1[M[0:2400]])"
   ]
  },
  {
   "cell_type": "code",
   "execution_count": null,
   "metadata": {},
   "outputs": [],
   "source": [
    "def wavelet_one(signal):\n",
    "    wavelet1 = pywt.cwt(signal,200,\"mexh\")\n",
    "    fourier1 = fft(wavelet1[0][0])\n",
    "    freq_cst = (1/(np.sqrt(2*np.pi)))\n",
    "    fourier1 = np.absolute(fourier1)\n",
    "    fourier1 = freq_cst*fourier1\n",
    "    M = argrelextrema(fourier1,np.greater)[0]\n",
    "    \n",
    "    return SPEC2(fourier1[M[0:2400]])"
   ]
  },
  {
   "cell_type": "code",
   "execution_count": null,
   "metadata": {},
   "outputs": [],
   "source": [
    "wavelet_one(MIT_signal[0:2400])"
   ]
  },
  {
   "cell_type": "markdown",
   "metadata": {},
   "source": [
    "## Wavelet 2:"
   ]
  },
  {
   "cell_type": "markdown",
   "metadata": {},
   "source": [
    "Need to turn the SPEC algorithm into one big algorithm. This uses SPEC to check whether the signal is VF, if it is, then this second wavelet does not need to be considered. If it doesn't however, the following is performed:"
   ]
  },
  {
   "cell_type": "code",
   "execution_count": null,
   "metadata": {},
   "outputs": [],
   "source": [
    "w = pywt.dwt(MIT_signal[0:2400],'db8','smooth')\n",
    "plt.plot(w[0])"
   ]
  },
  {
   "cell_type": "code",
   "execution_count": null,
   "metadata": {},
   "outputs": [],
   "source": [
    "plt.plot(w[1])"
   ]
  },
  {
   "cell_type": "code",
   "execution_count": null,
   "metadata": {},
   "outputs": [],
   "source": [
    "qrs_wave2 = processing.xqrs_detect(sig=w[0], fs=41)\n",
    "len(qrs_wave2)/3"
   ]
  },
  {
   "cell_type": "code",
   "execution_count": null,
   "metadata": {},
   "outputs": [],
   "source": [
    "def Wave_2(signal):\n",
    "    w = pywt.dwt(MIT_signal[0:2400],'db8','smooth')\n",
    "    qrs_wave2 = processing.xqrs_detect(sig=w[0], fs=41)\n",
    "    return len(qrs_wave2)/3"
   ]
  },
  {
   "cell_type": "code",
   "execution_count": null,
   "metadata": {},
   "outputs": [],
   "source": [
    "Wave_2(MIT_signal[0:2400])"
   ]
  },
  {
   "cell_type": "markdown",
   "metadata": {},
   "source": [
    "# Parameter 10: Li Algorithm"
   ]
  },
  {
   "cell_type": "markdown",
   "metadata": {},
   "source": [
    "I used the continuous wavelet instead, as it allows for scaling:"
   ]
  },
  {
   "cell_type": "code",
   "execution_count": null,
   "metadata": {},
   "outputs": [],
   "source": [
    "def wavelet_finder(signal):\n",
    "    signal = wfdb.processing.normalize_bound(signal, lb=-1, ub=1)\n",
    "    w1 = pywt.cwt(signal,2,'mexh')\n",
    "    plt.plot(w1[0][0])\n",
    "    \n",
    "    w2 = pywt.cwt(signal,np.power(2,2),'mexh')\n",
    "    plt.figure()\n",
    "    plt.plot(w2[0][0])\n",
    "    \n",
    "    w3 = pywt.cwt(signal,np.power(2,3),'mexh')\n",
    "    plt.figure()\n",
    "    plt.plot(w3[0][0])\n",
    "    \n",
    "    w4 = pywt.cwt(signal,np.power(2,4),'mexh')\n",
    "    plt.figure()\n",
    "    plt.plot(w4[0][0])\n",
    "    \n",
    "    return w1,w2,w3,w4"
   ]
  },
  {
   "cell_type": "code",
   "execution_count": null,
   "metadata": {
    "scrolled": true
   },
   "outputs": [],
   "source": [
    "w1,w2,w3,w4 = wavelet_finder(MIT_signal[0:2400])"
   ]
  },
  {
   "cell_type": "code",
   "execution_count": null,
   "metadata": {},
   "outputs": [],
   "source": [
    "time1 = time[0:2400]\n",
    "time2 = time[0:2400]\n",
    "time3 = time[0:2400]\n",
    "time4 = time[0:2400]"
   ]
  },
  {
   "cell_type": "code",
   "execution_count": null,
   "metadata": {
    "scrolled": true
   },
   "outputs": [],
   "source": [
    "w1,time1 = signal_preprocessor(w1[0][0],time1,200,30)\n",
    "w2,time2 = signal_preprocessor(w2[0][0],time2,200,30)\n",
    "w3,time3 = signal_preprocessor(w3[0][0],time3,200,30)\n",
    "w4,time4 = signal_preprocessor(w4[0][0],time4,200,30)"
   ]
  },
  {
   "cell_type": "code",
   "execution_count": null,
   "metadata": {},
   "outputs": [],
   "source": [
    "def QRS_number_search(w1,w2,w3,w4,fs):\n",
    "    qrs_w1 = processing.xqrs_detect(sig=w1, fs=fs)\n",
    "    qrs_w2 = processing.xqrs_detect(sig=w2, fs=fs)\n",
    "    qrs_w3 = processing.xqrs_detect(sig=w3, fs=fs)\n",
    "    qrs_w4 = processing.xqrs_detect(sig=w4, fs=fs)\n",
    "    \n",
    "    return qrs_w1,qrs_w2,qrs_w3,qrs_w4"
   ]
  },
  {
   "cell_type": "code",
   "execution_count": null,
   "metadata": {},
   "outputs": [],
   "source": [
    "qrs1,qrs2,qrs3,qrs4 = QRS_number_search(w1,w2,w3,w4,55)"
   ]
  },
  {
   "cell_type": "code",
   "execution_count": null,
   "metadata": {},
   "outputs": [],
   "source": [
    "plt.plot(time1,w1)\n",
    "plt.scatter(time1[qrs1],w1[qrs1],color=\"red\")\n",
    "len(qrs1)/3"
   ]
  },
  {
   "cell_type": "code",
   "execution_count": null,
   "metadata": {},
   "outputs": [],
   "source": []
  },
  {
   "cell_type": "markdown",
   "metadata": {},
   "source": [
    "0 or greater than 5 times the window length in seconds, so 40 in the 8 second interval case"
   ]
  },
  {
   "cell_type": "markdown",
   "metadata": {},
   "source": [
    "# Parameter 11: Tompkins Algorithm"
   ]
  },
  {
   "cell_type": "code",
   "execution_count": null,
   "metadata": {},
   "outputs": [],
   "source": [
    "sig = np.gradient(MIT_signal[0:2400],edge_order=1)\n",
    "plt.plot(time[0:2400],sig)"
   ]
  },
  {
   "cell_type": "code",
   "execution_count": null,
   "metadata": {
    "scrolled": true
   },
   "outputs": [],
   "source": [
    "signal = np.power(sig,2)\n",
    "plt.plot(time[0:2400],signal)"
   ]
  },
  {
   "cell_type": "code",
   "execution_count": null,
   "metadata": {},
   "outputs": [],
   "source": [
    "time2 = time[0:2400]\n",
    "time2.shape"
   ]
  },
  {
   "cell_type": "code",
   "execution_count": null,
   "metadata": {},
   "outputs": [],
   "source": [
    "signal.shape"
   ]
  },
  {
   "cell_type": "code",
   "execution_count": null,
   "metadata": {},
   "outputs": [],
   "source": [
    "sigmig,time3 = signal_preprocessor(signal,time2,200,30)\n",
    "sigmig = np.array(sigmig)\n",
    "plt.plot(time3,sigmig)"
   ]
  },
  {
   "cell_type": "code",
   "execution_count": null,
   "metadata": {},
   "outputs": [],
   "source": [
    "qrs = processing.xqrs_detect(sig=sigmig, fs=41)\n",
    "plt.plot(time3,sigmig)\n",
    "plt.scatter(time3[qrs],sigmig[qrs],color=\"Red\")\n",
    "len(qrs)/3"
   ]
  },
  {
   "cell_type": "markdown",
   "metadata": {},
   "source": [
    "# Parameter 12: Mean Absolute Value Algorithm"
   ]
  },
  {
   "cell_type": "code",
   "execution_count": null,
   "metadata": {},
   "outputs": [],
   "source": [
    "def mav(signal,I1,I2):\n",
    "    s = 0\n",
    "    sig = signal/np.amax(np.absolute(signal))\n",
    "    for i in sig[I1:I2]:\n",
    "        s+=np.absolute(i)\n",
    "    return s/len(signal)"
   ]
  },
  {
   "cell_type": "code",
   "execution_count": null,
   "metadata": {},
   "outputs": [],
   "source": [
    "mav(MIT_signal[0:2400],0,300)"
   ]
  },
  {
   "cell_type": "code",
   "execution_count": null,
   "metadata": {},
   "outputs": [],
   "source": [
    "np.arange(0,int(len(MIT_signal[0:2400])/300)-1,1)"
   ]
  },
  {
   "cell_type": "code",
   "execution_count": null,
   "metadata": {},
   "outputs": [],
   "source": [
    "def mav_avg(signal,length):\n",
    "    L = (length-1)\n",
    "    ran = np.arange(0,int(len(signal)/300)-2,1)\n",
    "    I1 = 0\n",
    "    I2= 600\n",
    "    mavi = []\n",
    "    for i in ran:\n",
    "        mavi.append(7*mav(signal,I1,I2))\n",
    "        I1+=300\n",
    "        I2+=300\n",
    "    avg_mav = np.mean(mavi)\n",
    "    return avg_mav"
   ]
  },
  {
   "cell_type": "code",
   "execution_count": null,
   "metadata": {},
   "outputs": [],
   "source": [
    "mav_avg(MIT_signal[0:2400],2)"
   ]
  },
  {
   "cell_type": "markdown",
   "metadata": {},
   "source": [
    "Note that the threshold for VF-VT is 0.27"
   ]
  },
  {
   "cell_type": "markdown",
   "metadata": {},
   "source": [
    "### Spectral Algorithm:"
   ]
  },
  {
   "cell_type": "markdown",
   "metadata": {},
   "source": [
    "The only problem I have now is the calculation of the first spectral moment. I found some package that does it, but I'm not sure if it is the correct way. "
   ]
  },
  {
   "cell_type": "markdown",
   "metadata": {},
   "source": [
    "### Signal Comparison Algorithm:"
   ]
  },
  {
   "cell_type": "markdown",
   "metadata": {},
   "source": [
    "How do I average the signals? The problem is that the QRS complexes... etc. are all at different indexes, which means that I can't average them. I triend using the starting point as the max before adding them, but that doesn't seem to work. Need something else."
   ]
  },
  {
   "cell_type": "markdown",
   "metadata": {},
   "source": [
    "# Creating the DataFrame:"
   ]
  },
  {
   "cell_type": "code",
   "execution_count": 72,
   "metadata": {},
   "outputs": [],
   "source": [
    "def ready_signal(directory,freq1):\n",
    "    s = wfdb.io.rdsamp(directory)\n",
    "    s = signal_creator(s)\n",
    "    t = np.arange(s.size)/freq1\n",
    "    s = wfdb.processing.normalize_bound(s, lb=-1, ub=1)\n",
    "    s,t= signal_preprocessor(s,t,freq1,30)\n",
    "    return s,t"
   ]
  },
  {
   "cell_type": "markdown",
   "metadata": {},
   "source": [
    "## Signals and Times arrays:"
   ]
  },
  {
   "cell_type": "code",
   "execution_count": 73,
   "metadata": {},
   "outputs": [],
   "source": [
    "signals = []\n",
    "times = []\n",
    "str1 = \"C:/Users/ahmad/Desktop/UC3M/Thesis/Python_Workspace/Code_thesis/Data_thesis/MIT/\"\n",
    "MIT_str = [\"100\",\"101\",\"102\",\"103\",\"104\",\"105\",\"106\",\"107\",\"108\",\"109\",\"111\",\"112\",\"113\",\"114\",\"115\",\"116\",\"117\",\"118\",\"119\",\n",
    "           \"121\",\"122\",\"123\",\"124\",\"200\",\"201\",\"202\",\"203\",\"205\",\"207\",\"208\",\"209\",\"210\",\"212\",\"213\",\"214\",\"215\",\"217\",\n",
    "           \"219\",\"220\",\"221\",\"222\",\"223\",\"228\",\"230\",\"231\",\"232\",\"233\",\"234\"]\n",
    "for i in MIT_str:\n",
    "    x,y = ready_signal(str1+i,360)\n",
    "    signals.append(x)\n",
    "    times.append(y)"
   ]
  },
  {
   "cell_type": "code",
   "execution_count": 74,
   "metadata": {},
   "outputs": [],
   "source": [
    "str2 = \"C:/Users/ahmad/Desktop/UC3M/Thesis/Python_Workspace/Code_thesis/Data_thesis/cudb/\"\n",
    "cudb_str = [\"cu01\",\"cu02\",\"cu03\",\"cu04\",\"cu05\",\"cu06\",\"cu07\",\"cu08\",\"cu09\",\"cu10\",\"cu11\",\"cu12\",\"cu13\",\"cu14\",\"cu15\",\"cu16\",\n",
    "            \"cu17\",\"cu18\",\"cu19\",\"cu20\",\"cu21\",\"cu22\",\"cu23\",\"cu24\",\"cu25\",\"cu26\",\"cu27\",\"cu28\",\"cu29\",\"cu30\",\"cu31\",\"cu32\",\n",
    "            \"cu33\",\"cu34\",\"cu35\"]\n",
    "for i in cudb_str:\n",
    "    x,y = ready_signal(str2+i,250)\n",
    "    signals.append(x)\n",
    "    times.append(y)"
   ]
  },
  {
   "cell_type": "code",
   "execution_count": 75,
   "metadata": {},
   "outputs": [],
   "source": [
    "str3 = \"C:/Users/ahmad/Desktop/UC3M/Thesis/Python_Workspace/Code_thesis/Data_thesis/vfdb/\"\n",
    "vfdb_str = [\"418\",\"419\",\"420\",\"421\",\"422\",\"423\",\"424\",\"425\",\"426\",\"427\",\"428\",\"429\",\"430\",\"602\",\"605\",\"607\",\n",
    "            \"609\",\"610\",\"611\",\"612\",\"614\",\"615\"]\n",
    "for i in vfdb_str:\n",
    "    x,y = ready_signal(str3+i,250)\n",
    "    signals.append(x)\n",
    "    times.append(y)"
   ]
  },
  {
   "cell_type": "code",
   "execution_count": 76,
   "metadata": {},
   "outputs": [],
   "source": [
    "def for_sigmar(s,t):\n",
    "    sigs = []\n",
    "    tims = []\n",
    "    for i in s:\n",
    "        x = np.array_split(i,int(len(i)/3300))\n",
    "        sigs.append(x)\n",
    "    for i in t:\n",
    "        y = np.array_split(i,int(len(i)/3300))\n",
    "        tims.append(y)\n",
    "    return sigs,tims"
   ]
  },
  {
   "cell_type": "code",
   "execution_count": 77,
   "metadata": {},
   "outputs": [],
   "source": [
    "ss,tt = for_sigmar(signals,times)"
   ]
  },
  {
   "cell_type": "code",
   "execution_count": 78,
   "metadata": {},
   "outputs": [
    {
     "data": {
      "text/plain": [
       "3316"
      ]
     },
     "execution_count": 78,
     "metadata": {},
     "output_type": "execute_result"
    }
   ],
   "source": [
    "len(ss[0][100])"
   ]
  },
  {
   "cell_type": "code",
   "execution_count": 79,
   "metadata": {},
   "outputs": [],
   "source": [
    "for i in range(0,105):\n",
    "    for j in range(len(ss[i])):\n",
    "        if len(ss[i][j])!=len(tt[i][j]):\n",
    "            print(\"oops\")    ##Checking if time and signal are the same size, and they are!"
   ]
  },
  {
   "cell_type": "markdown",
   "metadata": {},
   "source": [
    "## TCI Extraction:"
   ]
  },
  {
   "cell_type": "code",
   "execution_count": null,
   "metadata": {},
   "outputs": [],
   "source": [
    "def TCI_ext(ss):\n",
    "    values = []\n",
    "    for i in range(len(ss)):\n",
    "        for j in range(len(ss[i])):\n",
    "            binlist,thd = binary_td(ss[i][j],0,10)\n",
    "            values.append(TCI(binlist,thd,1,9))\n",
    "    return np.array(values)"
   ]
  },
  {
   "cell_type": "code",
   "execution_count": null,
   "metadata": {},
   "outputs": [],
   "source": [
    "len(ss[13][29])"
   ]
  },
  {
   "cell_type": "code",
   "execution_count": null,
   "metadata": {},
   "outputs": [],
   "source": [
    "TCI = TCI_ext(ss)"
   ]
  },
  {
   "cell_type": "code",
   "execution_count": null,
   "metadata": {},
   "outputs": [],
   "source": [
    "TCI[0]"
   ]
  },
  {
   "cell_type": "code",
   "execution_count": null,
   "metadata": {},
   "outputs": [],
   "source": [
    "l = []\n",
    "for i in TCI:\n",
    "     l.append([pd.DataFrame({ i[0],i[1],i[2],i[3],i[4],i[5],i[6],i[7] })])\n",
    "ll = []\n",
    "for i in l:\n",
    "    ll.append(pd.DataFrame(i))\n",
    "TCI_DF = pd.concat(ll)\n",
    "TCI_DF.columns = [\"TCI\"]"
   ]
  },
  {
   "cell_type": "code",
   "execution_count": null,
   "metadata": {
    "scrolled": true
   },
   "outputs": [],
   "source": [
    "TCI_DF"
   ]
  },
  {
   "cell_type": "markdown",
   "metadata": {},
   "source": [
    "## ACF Extraction:"
   ]
  },
  {
   "cell_type": "code",
   "execution_count": null,
   "metadata": {},
   "outputs": [],
   "source": [
    "def ACF_ext(ss):\n",
    "    values = []\n",
    "    for i in range(len(ss)):\n",
    "        for j in range(len(ss[i])):\n",
    "            values.append(ACF_test(ss[i][j][0:2400]))\n",
    "    return np.array(values)"
   ]
  },
  {
   "cell_type": "code",
   "execution_count": null,
   "metadata": {},
   "outputs": [],
   "source": [
    "#ACF = ACF_ext(ss)"
   ]
  },
  {
   "cell_type": "code",
   "execution_count": null,
   "metadata": {},
   "outputs": [],
   "source": [
    "ACF"
   ]
  },
  {
   "cell_type": "code",
   "execution_count": null,
   "metadata": {},
   "outputs": [],
   "source": [
    "ACF_DF = pd.DataFrame(ACF)\n",
    "ACF_DF.columns = [\"ACF\"]"
   ]
  },
  {
   "cell_type": "code",
   "execution_count": null,
   "metadata": {
    "scrolled": true
   },
   "outputs": [],
   "source": [
    "ACF_DF"
   ]
  },
  {
   "cell_type": "markdown",
   "metadata": {},
   "source": [
    "## VF Filter Extraction"
   ]
  },
  {
   "cell_type": "code",
   "execution_count": null,
   "metadata": {},
   "outputs": [],
   "source": [
    "def VFF_ext(ss):\n",
    "    values = []\n",
    "    for i in range(len(ss)):\n",
    "        for j in range(len(ss[i])):\n",
    "            values.append(VF_Filter_leakage(ss[i][j][0:2400],int(get_points(ss[i][j][0:2400],300)),200,500))\n",
    "    v = np.array(values)\n",
    "    v = pd.DataFrame(v)\n",
    "    v.columns = [\"VFF\"]\n",
    "    return v"
   ]
  },
  {
   "cell_type": "code",
   "execution_count": null,
   "metadata": {},
   "outputs": [],
   "source": [
    "VFF_DF = VFF_ext(ss)"
   ]
  },
  {
   "cell_type": "markdown",
   "metadata": {},
   "source": [
    "## Spectral Extraction:"
   ]
  },
  {
   "cell_type": "code",
   "execution_count": null,
   "metadata": {},
   "outputs": [],
   "source": [
    "def SPEC_ext(ss):\n",
    "    values = []\n",
    "    for i in range(len(ss)):\n",
    "        for j in range(len(ss[i])):\n",
    "            values.append(SPEC(ss[i][j][0:2400]))\n",
    "    v = np.array(values)\n",
    "    v = pd.DataFrame(v)\n",
    "    v.columns = [\"SPEC\"]\n",
    "    return v"
   ]
  },
  {
   "cell_type": "code",
   "execution_count": null,
   "metadata": {},
   "outputs": [],
   "source": [
    "SPEC_DF = SPEC_ext(ss)"
   ]
  },
  {
   "cell_type": "markdown",
   "metadata": {},
   "source": [
    "## Complexity Measure Extraction:"
   ]
  },
  {
   "cell_type": "code",
   "execution_count": null,
   "metadata": {},
   "outputs": [],
   "source": [
    "def Comp_ext(ss):\n",
    "    values = []\n",
    "    for i in range(len(ss)):\n",
    "        for j in range(len(ss[i])):\n",
    "            values.append(comp_measure(ss[i][j][0:2400],2400))\n",
    "    v = np.array(values)\n",
    "    v = pd.DataFrame(v)\n",
    "    v.columns = [\"Complexity\"]\n",
    "    return v"
   ]
  },
  {
   "cell_type": "code",
   "execution_count": null,
   "metadata": {},
   "outputs": [],
   "source": [
    "Comp_DF = Comp_ext(ss)"
   ]
  },
  {
   "cell_type": "markdown",
   "metadata": {},
   "source": [
    "## Standard Exponential Extraction:"
   ]
  },
  {
   "cell_type": "code",
   "execution_count": null,
   "metadata": {},
   "outputs": [],
   "source": [
    "def stdexp_ext(ss,tt):\n",
    "    values = []\n",
    "    for i in range(len(ss)):\n",
    "        for j in range(len(ss[i])):\n",
    "            values.append(std_exp_algthm(tt[i][j][0:2400],ss[i][j][0:2400],3))\n",
    "    v = np.array(values)\n",
    "    v = pd.DataFrame(v)\n",
    "    v.columns = [\"ST_EXP\"]\n",
    "    return v"
   ]
  },
  {
   "cell_type": "code",
   "execution_count": null,
   "metadata": {},
   "outputs": [],
   "source": [
    "ST_EXP_DF = stdexp_ext(ss,tt) "
   ]
  },
  {
   "cell_type": "code",
   "execution_count": null,
   "metadata": {},
   "outputs": [],
   "source": [
    "ss[0][0][0:2400]"
   ]
  },
  {
   "cell_type": "markdown",
   "metadata": {},
   "source": [
    "## Modified Exponential Extraction:"
   ]
  },
  {
   "cell_type": "code",
   "execution_count": 152,
   "metadata": {},
   "outputs": [],
   "source": [
    "def starting_point_end(signal,t):\n",
    "    M = np.amax(signal[0:300])\n",
    "    index_M = np.where(signal==M)\n",
    "    M2 = np.amax(signal[2100:2400])\n",
    "    index_M1 = np.where(signal==M2)\n",
    "    signal_start = signal[index_M[0][0]:index_M1[0][0]]\n",
    "    time_M = np.arange(signal_start.size)/fs\n",
    "    return signal_start,time_M"
   ]
  },
  {
   "cell_type": "code",
   "execution_count": 153,
   "metadata": {},
   "outputs": [],
   "source": [
    "def start_end_ext(ss,tt):\n",
    "    values = []\n",
    "    time = []\n",
    "    for i in range(len(ss)):\n",
    "        for j in range(len(ss[i])):\n",
    "            x,y = starting_point_end(ss[i][j],tt[i][j])\n",
    "            values.append(x)\n",
    "            time.append(y)\n",
    "    return values,time"
   ]
  },
  {
   "cell_type": "code",
   "execution_count": 154,
   "metadata": {},
   "outputs": [],
   "source": [
    "sm,tm = start_end_ext(ss,tt)"
   ]
  },
  {
   "cell_type": "code",
   "execution_count": 93,
   "metadata": {},
   "outputs": [],
   "source": [
    "#ss[103][29] = ss[103][29][500:-1]\n",
    "#tt[103][29] = tt[103][29][500:-1]"
   ]
  },
  {
   "cell_type": "code",
   "execution_count": 159,
   "metadata": {},
   "outputs": [],
   "source": [
    "def MEA_ext(ss,tt):\n",
    "    values = []\n",
    "    for i in range(len(ss)):\n",
    "        values.append(MEA(tt[i][0:-1],ss[i][0:-1],0.2))\n",
    "    v = np.array(values)\n",
    "    v = pd.DataFrame(v)\n",
    "    v.columns = [\"MDF_EXP\"]\n",
    "    return v"
   ]
  },
  {
   "cell_type": "code",
   "execution_count": 160,
   "metadata": {
    "scrolled": true
   },
   "outputs": [],
   "source": [
    "MEA_DF = MEA_ext(sm,tm)"
   ]
  },
  {
   "cell_type": "code",
   "execution_count": 158,
   "metadata": {},
   "outputs": [
    {
     "data": {
      "text/html": [
       "<div>\n",
       "<style scoped>\n",
       "    .dataframe tbody tr th:only-of-type {\n",
       "        vertical-align: middle;\n",
       "    }\n",
       "\n",
       "    .dataframe tbody tr th {\n",
       "        vertical-align: top;\n",
       "    }\n",
       "\n",
       "    .dataframe thead th {\n",
       "        text-align: right;\n",
       "    }\n",
       "</style>\n",
       "<table border=\"1\" class=\"dataframe\">\n",
       "  <thead>\n",
       "    <tr style=\"text-align: right;\">\n",
       "      <th></th>\n",
       "      <th>MDF_EXP</th>\n",
       "    </tr>\n",
       "  </thead>\n",
       "  <tbody>\n",
       "    <tr>\n",
       "      <th>0</th>\n",
       "      <td>143.172779</td>\n",
       "    </tr>\n",
       "    <tr>\n",
       "      <th>1</th>\n",
       "      <td>139.424032</td>\n",
       "    </tr>\n",
       "    <tr>\n",
       "      <th>2</th>\n",
       "      <td>143.926192</td>\n",
       "    </tr>\n",
       "    <tr>\n",
       "      <th>3</th>\n",
       "      <td>141.484716</td>\n",
       "    </tr>\n",
       "    <tr>\n",
       "      <th>4</th>\n",
       "      <td>142.230026</td>\n",
       "    </tr>\n",
       "    <tr>\n",
       "      <th>5</th>\n",
       "      <td>141.961577</td>\n",
       "    </tr>\n",
       "    <tr>\n",
       "      <th>6</th>\n",
       "      <td>142.177215</td>\n",
       "    </tr>\n",
       "    <tr>\n",
       "      <th>7</th>\n",
       "      <td>142.610462</td>\n",
       "    </tr>\n",
       "    <tr>\n",
       "      <th>8</th>\n",
       "      <td>140.822467</td>\n",
       "    </tr>\n",
       "    <tr>\n",
       "      <th>9</th>\n",
       "      <td>141.670310</td>\n",
       "    </tr>\n",
       "    <tr>\n",
       "      <th>10</th>\n",
       "      <td>140.963855</td>\n",
       "    </tr>\n",
       "    <tr>\n",
       "      <th>11</th>\n",
       "      <td>141.603631</td>\n",
       "    </tr>\n",
       "    <tr>\n",
       "      <th>12</th>\n",
       "      <td>142.900763</td>\n",
       "    </tr>\n",
       "    <tr>\n",
       "      <th>13</th>\n",
       "      <td>143.705220</td>\n",
       "    </tr>\n",
       "    <tr>\n",
       "      <th>14</th>\n",
       "      <td>145.683453</td>\n",
       "    </tr>\n",
       "    <tr>\n",
       "      <th>15</th>\n",
       "      <td>145.041322</td>\n",
       "    </tr>\n",
       "    <tr>\n",
       "      <th>16</th>\n",
       "      <td>144.444444</td>\n",
       "    </tr>\n",
       "    <tr>\n",
       "      <th>17</th>\n",
       "      <td>145.945946</td>\n",
       "    </tr>\n",
       "    <tr>\n",
       "      <th>18</th>\n",
       "      <td>141.532258</td>\n",
       "    </tr>\n",
       "    <tr>\n",
       "      <th>19</th>\n",
       "      <td>143.411645</td>\n",
       "    </tr>\n",
       "    <tr>\n",
       "      <th>20</th>\n",
       "      <td>134.579439</td>\n",
       "    </tr>\n",
       "    <tr>\n",
       "      <th>21</th>\n",
       "      <td>141.389728</td>\n",
       "    </tr>\n",
       "    <tr>\n",
       "      <th>22</th>\n",
       "      <td>142.480211</td>\n",
       "    </tr>\n",
       "    <tr>\n",
       "      <th>23</th>\n",
       "      <td>143.046358</td>\n",
       "    </tr>\n",
       "    <tr>\n",
       "      <th>24</th>\n",
       "      <td>141.818182</td>\n",
       "    </tr>\n",
       "    <tr>\n",
       "      <th>25</th>\n",
       "      <td>140.138408</td>\n",
       "    </tr>\n",
       "    <tr>\n",
       "      <th>26</th>\n",
       "      <td>141.176471</td>\n",
       "    </tr>\n",
       "    <tr>\n",
       "      <th>27</th>\n",
       "      <td>140.610916</td>\n",
       "    </tr>\n",
       "    <tr>\n",
       "      <th>28</th>\n",
       "      <td>141.247485</td>\n",
       "    </tr>\n",
       "    <tr>\n",
       "      <th>29</th>\n",
       "      <td>140.540541</td>\n",
       "    </tr>\n",
       "    <tr>\n",
       "      <th>...</th>\n",
       "      <td>...</td>\n",
       "    </tr>\n",
       "    <tr>\n",
       "      <th>14206</th>\n",
       "      <td>187.554269</td>\n",
       "    </tr>\n",
       "    <tr>\n",
       "      <th>14207</th>\n",
       "      <td>216.867470</td>\n",
       "    </tr>\n",
       "    <tr>\n",
       "      <th>14208</th>\n",
       "      <td>196.269727</td>\n",
       "    </tr>\n",
       "    <tr>\n",
       "      <th>14209</th>\n",
       "      <td>207.194245</td>\n",
       "    </tr>\n",
       "    <tr>\n",
       "      <th>14210</th>\n",
       "      <td>158.003442</td>\n",
       "    </tr>\n",
       "    <tr>\n",
       "      <th>14211</th>\n",
       "      <td>181.089893</td>\n",
       "    </tr>\n",
       "    <tr>\n",
       "      <th>14212</th>\n",
       "      <td>186.970387</td>\n",
       "    </tr>\n",
       "    <tr>\n",
       "      <th>14213</th>\n",
       "      <td>175.135135</td>\n",
       "    </tr>\n",
       "    <tr>\n",
       "      <th>14214</th>\n",
       "      <td>235.850773</td>\n",
       "    </tr>\n",
       "    <tr>\n",
       "      <th>14215</th>\n",
       "      <td>191.338583</td>\n",
       "    </tr>\n",
       "    <tr>\n",
       "      <th>14216</th>\n",
       "      <td>184.283790</td>\n",
       "    </tr>\n",
       "    <tr>\n",
       "      <th>14217</th>\n",
       "      <td>179.921087</td>\n",
       "    </tr>\n",
       "    <tr>\n",
       "      <th>14218</th>\n",
       "      <td>210.937500</td>\n",
       "    </tr>\n",
       "    <tr>\n",
       "      <th>14219</th>\n",
       "      <td>187.012987</td>\n",
       "    </tr>\n",
       "    <tr>\n",
       "      <th>14220</th>\n",
       "      <td>213.258110</td>\n",
       "    </tr>\n",
       "    <tr>\n",
       "      <th>14221</th>\n",
       "      <td>146.739130</td>\n",
       "    </tr>\n",
       "    <tr>\n",
       "      <th>14222</th>\n",
       "      <td>166.393837</td>\n",
       "    </tr>\n",
       "    <tr>\n",
       "      <th>14223</th>\n",
       "      <td>183.783784</td>\n",
       "    </tr>\n",
       "    <tr>\n",
       "      <th>14224</th>\n",
       "      <td>172.025884</td>\n",
       "    </tr>\n",
       "    <tr>\n",
       "      <th>14225</th>\n",
       "      <td>182.535211</td>\n",
       "    </tr>\n",
       "    <tr>\n",
       "      <th>14226</th>\n",
       "      <td>228.934817</td>\n",
       "    </tr>\n",
       "    <tr>\n",
       "      <th>14227</th>\n",
       "      <td>174.810319</td>\n",
       "    </tr>\n",
       "    <tr>\n",
       "      <th>14228</th>\n",
       "      <td>192.676056</td>\n",
       "    </tr>\n",
       "    <tr>\n",
       "      <th>14229</th>\n",
       "      <td>246.270784</td>\n",
       "    </tr>\n",
       "    <tr>\n",
       "      <th>14230</th>\n",
       "      <td>183.941606</td>\n",
       "    </tr>\n",
       "    <tr>\n",
       "      <th>14231</th>\n",
       "      <td>196.264513</td>\n",
       "    </tr>\n",
       "    <tr>\n",
       "      <th>14232</th>\n",
       "      <td>208.642603</td>\n",
       "    </tr>\n",
       "    <tr>\n",
       "      <th>14233</th>\n",
       "      <td>205.621034</td>\n",
       "    </tr>\n",
       "    <tr>\n",
       "      <th>14234</th>\n",
       "      <td>220.171674</td>\n",
       "    </tr>\n",
       "    <tr>\n",
       "      <th>14235</th>\n",
       "      <td>172.025884</td>\n",
       "    </tr>\n",
       "  </tbody>\n",
       "</table>\n",
       "<p>14236 rows × 1 columns</p>\n",
       "</div>"
      ],
      "text/plain": [
       "          MDF_EXP\n",
       "0      143.172779\n",
       "1      139.424032\n",
       "2      143.926192\n",
       "3      141.484716\n",
       "4      142.230026\n",
       "5      141.961577\n",
       "6      142.177215\n",
       "7      142.610462\n",
       "8      140.822467\n",
       "9      141.670310\n",
       "10     140.963855\n",
       "11     141.603631\n",
       "12     142.900763\n",
       "13     143.705220\n",
       "14     145.683453\n",
       "15     145.041322\n",
       "16     144.444444\n",
       "17     145.945946\n",
       "18     141.532258\n",
       "19     143.411645\n",
       "20     134.579439\n",
       "21     141.389728\n",
       "22     142.480211\n",
       "23     143.046358\n",
       "24     141.818182\n",
       "25     140.138408\n",
       "26     141.176471\n",
       "27     140.610916\n",
       "28     141.247485\n",
       "29     140.540541\n",
       "...           ...\n",
       "14206  187.554269\n",
       "14207  216.867470\n",
       "14208  196.269727\n",
       "14209  207.194245\n",
       "14210  158.003442\n",
       "14211  181.089893\n",
       "14212  186.970387\n",
       "14213  175.135135\n",
       "14214  235.850773\n",
       "14215  191.338583\n",
       "14216  184.283790\n",
       "14217  179.921087\n",
       "14218  210.937500\n",
       "14219  187.012987\n",
       "14220  213.258110\n",
       "14221  146.739130\n",
       "14222  166.393837\n",
       "14223  183.783784\n",
       "14224  172.025884\n",
       "14225  182.535211\n",
       "14226  228.934817\n",
       "14227  174.810319\n",
       "14228  192.676056\n",
       "14229  246.270784\n",
       "14230  183.941606\n",
       "14231  196.264513\n",
       "14232  208.642603\n",
       "14233  205.621034\n",
       "14234  220.171674\n",
       "14235  172.025884\n",
       "\n",
       "[14236 rows x 1 columns]"
      ]
     },
     "execution_count": 158,
     "metadata": {},
     "output_type": "execute_result"
    }
   ],
   "source": [
    "MEA_DF"
   ]
  },
  {
   "cell_type": "markdown",
   "metadata": {},
   "source": [
    "## SCA Extraction: "
   ]
  },
  {
   "cell_type": "code",
   "execution_count": null,
   "metadata": {},
   "outputs": [],
   "source": [
    "def SCA_ext(ss):\n",
    "    values = []\n",
    "    for i in range(len(ss)):\n",
    "        for j in range(len(ss[i])):\n",
    "            values.append(SCA(ss[i][j][0:2400]))\n",
    "    v = np.array(values)\n",
    "    v = pd.DataFrame(v)\n",
    "    v.columns = [\"SCA\"]\n",
    "    return v"
   ]
  },
  {
   "cell_type": "code",
   "execution_count": null,
   "metadata": {},
   "outputs": [],
   "source": [
    "SCA_DF = SCA_ext(ss)"
   ]
  },
  {
   "cell_type": "markdown",
   "metadata": {},
   "source": [
    "## Wavelet 1:"
   ]
  },
  {
   "cell_type": "code",
   "execution_count": null,
   "metadata": {},
   "outputs": [],
   "source": [
    "def Wave1_ext(ss):\n",
    "    values = []\n",
    "    for i in range(len(ss)):\n",
    "        for j in range(len(ss[i])):\n",
    "            values.append(wavelet_one(ss[i][j][0:2400]))\n",
    "    v = np.array(values)\n",
    "    v = pd.DataFrame(v)\n",
    "    v.columns = [\"SCA\"]\n",
    "    return v"
   ]
  },
  {
   "cell_type": "code",
   "execution_count": null,
   "metadata": {},
   "outputs": [],
   "source": [
    "Wave1_DF = Wave1_ext(ss)"
   ]
  },
  {
   "cell_type": "markdown",
   "metadata": {},
   "source": [
    "## Wavelet 2:"
   ]
  },
  {
   "cell_type": "code",
   "execution_count": null,
   "metadata": {},
   "outputs": [],
   "source": [
    "def Wave2_ext(ss):\n",
    "    values = []\n",
    "    for i in range(len(ss)):\n",
    "        for j in range(len(ss[i])):\n",
    "            values.append(Wave_2(ss[i][j][0:2400]))\n",
    "    v = np.array(values)\n",
    "    v = pd.DataFrame(v)\n",
    "    v.columns = [\"SCA\"]\n",
    "    return v"
   ]
  },
  {
   "cell_type": "code",
   "execution_count": null,
   "metadata": {},
   "outputs": [],
   "source": []
  },
  {
   "cell_type": "markdown",
   "metadata": {},
   "source": [
    "# Fixes:"
   ]
  },
  {
   "cell_type": "markdown",
   "metadata": {},
   "source": [
    "1. SPEC check which signal needs to be operated on and check the modulus\n",
    "4. MEA try to fix the max to max "
   ]
  }
 ],
 "metadata": {
  "kernelspec": {
   "display_name": "Python 3",
   "language": "python",
   "name": "python3"
  },
  "language_info": {
   "codemirror_mode": {
    "name": "ipython",
    "version": 3
   },
   "file_extension": ".py",
   "mimetype": "text/x-python",
   "name": "python",
   "nbconvert_exporter": "python",
   "pygments_lexer": "ipython3",
   "version": "3.6.7"
  }
 },
 "nbformat": 4,
 "nbformat_minor": 2
}
